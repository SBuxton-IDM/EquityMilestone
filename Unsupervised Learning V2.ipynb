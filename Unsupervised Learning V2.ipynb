{
 "cells": [
  {
   "cell_type": "markdown",
   "metadata": {},
   "source": [
    "# Digital Equity and Inclusion - Machine Learning to close the digital divide #\n",
    "                  \n",
    "   **Jason Kronemeyer (jfkrone@umich.edu), Liang Yao(yaoliang@umich.edu), Samuel Buxton (sambux@umich.edu)**\n",
    "\n"
   ]
  },
  {
   "cell_type": "markdown",
   "metadata": {},
   "source": [
    "## The Goal: ##\n",
    "\n",
    "**This project aims to measure and forecast progress on digital equity in Michigan. Digital equity refers to the equal distribution of digital resources and opportunities, including access to high-speed internet, digital devices, and digital literacy training. One challenge in this project is the availability and quality of data on digital equity in Michigan. Another challenge is the complexity of the problem, as there are many socioeconomic factors that contribute to the digital divide.**\n",
    " \n",
    "The project will consist of two parts:\n",
    "\n",
    "**Part A(Supervised learning):** Our goal is to forecast internet access and digital equity levels in areas of\n",
    "Michigan. Since we are using both categorical and quantitative variables to predict our quantitative equity metric, we plan to compare the efficacy of a linear regression approach with dummy variables against a random forest regressor.\n",
    " \n",
    "**Part Part B(Unsupervised learning):** Our goal is know about pattern or structure of the dataset, and identify the principal components and features in the data that can help us to understand and predict progress on digital equity in Michigan.."
   ]
  },
  {
   "cell_type": "markdown",
   "metadata": {},
   "source": [
    "**Install libraries**"
   ]
  },
  {
   "cell_type": "code",
   "execution_count": 4,
   "metadata": {},
   "outputs": [
    {
     "name": "stdout",
     "output_type": "stream",
     "text": [
      "Collecting geopandas\n",
      "  Downloading geopandas-0.10.2-py2.py3-none-any.whl (1.0 MB)\n",
      "\u001b[K     |████████████████████████████████| 1.0 MB 31.3 MB/s eta 0:00:01\n",
      "\u001b[?25hCollecting shapely>=1.6\n",
      "  Downloading shapely-2.0.2-cp37-cp37m-manylinux_2_17_x86_64.manylinux2014_x86_64.whl (2.4 MB)\n",
      "\u001b[K     |████████████████████████████████| 2.4 MB 60.7 MB/s eta 0:00:01\n",
      "\u001b[?25hCollecting pyproj>=2.2.0\n",
      "  Downloading pyproj-3.2.1-cp37-cp37m-manylinux2010_x86_64.whl (6.3 MB)\n",
      "\u001b[K     |████████████████████████████████| 6.3 MB 63.0 MB/s eta 0:00:01\n",
      "\u001b[?25hCollecting fiona>=1.8\n",
      "  Downloading fiona-1.9.5-cp37-cp37m-manylinux2014_x86_64.whl (15.6 MB)\n",
      "\u001b[K     |████████████████████████████████| 15.6 MB 62.7 MB/s eta 0:00:01\n",
      "\u001b[?25hRequirement already satisfied: pandas>=0.25.0 in /opt/conda/lib/python3.7/site-packages (from geopandas) (1.2.3)\n",
      "Collecting click-plugins>=1.0\n",
      "  Downloading click_plugins-1.1.1-py2.py3-none-any.whl (7.5 kB)\n",
      "Requirement already satisfied: six in /opt/conda/lib/python3.7/site-packages (from fiona>=1.8->geopandas) (1.15.0)\n",
      "Collecting cligj>=0.5\n",
      "  Downloading cligj-0.7.2-py3-none-any.whl (7.1 kB)\n",
      "Collecting click~=8.0\n",
      "  Downloading click-8.1.7-py3-none-any.whl (97 kB)\n",
      "\u001b[K     |████████████████████████████████| 97 kB 41.7 MB/s  eta 0:00:01\n",
      "\u001b[?25hRequirement already satisfied: certifi in /opt/conda/lib/python3.7/site-packages (from fiona>=1.8->geopandas) (2020.12.5)\n",
      "Requirement already satisfied: setuptools in /opt/conda/lib/python3.7/site-packages (from fiona>=1.8->geopandas) (49.6.0.post20210108)\n",
      "Requirement already satisfied: attrs>=19.2.0 in /opt/conda/lib/python3.7/site-packages (from fiona>=1.8->geopandas) (20.3.0)\n",
      "Requirement already satisfied: importlib-metadata in /opt/conda/lib/python3.7/site-packages (from fiona>=1.8->geopandas) (3.7.2)\n",
      "Requirement already satisfied: python-dateutil>=2.7.3 in /opt/conda/lib/python3.7/site-packages (from pandas>=0.25.0->geopandas) (2.8.1)\n",
      "Requirement already satisfied: pytz>=2017.3 in /opt/conda/lib/python3.7/site-packages (from pandas>=0.25.0->geopandas) (2021.1)\n",
      "Requirement already satisfied: numpy>=1.16.5 in /opt/conda/lib/python3.7/site-packages (from pandas>=0.25.0->geopandas) (1.20.1)\n",
      "Requirement already satisfied: typing-extensions>=3.6.4 in /opt/conda/lib/python3.7/site-packages (from importlib-metadata->fiona>=1.8->geopandas) (3.7.4.3)\n",
      "Requirement already satisfied: zipp>=0.5 in /opt/conda/lib/python3.7/site-packages (from importlib-metadata->fiona>=1.8->geopandas) (3.4.0)\n",
      "Installing collected packages: click, cligj, click-plugins, shapely, pyproj, fiona, geopandas\n",
      "  Attempting uninstall: click\n",
      "    Found existing installation: click 7.1.2\n",
      "    Uninstalling click-7.1.2:\n",
      "      Successfully uninstalled click-7.1.2\n",
      "Successfully installed click-8.1.7 click-plugins-1.1.1 cligj-0.7.2 fiona-1.9.5 geopandas-0.10.2 pyproj-3.2.1 shapely-2.0.2\n"
     ]
    }
   ],
   "source": [
    "!pip install geopandas"
   ]
  },
  {
   "cell_type": "markdown",
   "metadata": {},
   "source": [
    "**Import libraries**"
   ]
  },
  {
   "cell_type": "code",
   "execution_count": 5,
   "metadata": {
    "tags": []
   },
   "outputs": [],
   "source": [
    "# import packages we need\n",
    "\n",
    "from datetime import datetime\n",
    "\n",
    "import geopandas as gpd\n",
    "import matplotlib.pyplot as plt\n",
    "import pandas as pd\n",
    "import numpy as np\n",
    "\n",
    "\n",
    "from shapely.geometry import Point\n",
    "# from adjustText import adjust_text"
   ]
  },
  {
   "cell_type": "markdown",
   "metadata": {},
   "source": [
    "**Remove warnings**"
   ]
  },
  {
   "cell_type": "code",
   "execution_count": 6,
   "metadata": {},
   "outputs": [],
   "source": [
    "import warnings\n",
    "warnings.filterwarnings('ignore')"
   ]
  },
  {
   "cell_type": "code",
   "execution_count": 7,
   "metadata": {
    "tags": []
   },
   "outputs": [],
   "source": [
    "# Display settings\n",
    "# %config InlineBackend.figure_format = \"retina\" # make figures look better \n",
    "np.set_printoptions(precision=3)"
   ]
  },
  {
   "cell_type": "markdown",
   "metadata": {},
   "source": [
    "# Part B (Unsupervised learning): #\n"
   ]
  },
  {
   "cell_type": "markdown",
   "metadata": {},
   "source": []
  },
  {
   "cell_type": "markdown",
   "metadata": {},
   "source": [
    "\n",
    "## STEP 1: Data Preprocessing<a id='章节1'></a>"
   ]
  },
  {
   "cell_type": "code",
   "execution_count": 8,
   "metadata": {},
   "outputs": [
    {
     "data": {
      "text/plain": [
       "Index(['OBJECTID_1', 'OBJECTID_l', 'michigan_M', 'PERIMETER', 'TOWN', 'RANGE',\n",
       "       'SECTION', 'SEC', 'TWNRNG', 'TWNRNGSEC', 'CLAIM', 'GOVLOT', 'OTHER',\n",
       "       'COUNTY', 'Shape_STAr', 'Shape_STLe', 'Shape_ST_1', 'Shape_ST_2',\n",
       "       'Shape_ST_3', 'Shape_ST_4', 'ShapeSTAre', 'ShapeSTLen', 'index_righ',\n",
       "       'quadkey', 'avg_d_kbps', 'avg_u_kbps', 'avg_lat_ms', 'tests', 'devices',\n",
       "       'index_ri_1', 'OBJECTID_r', 'FIPSCODE', 'FIPSNUM', 'NAME', 'LABEL',\n",
       "       'TYPE', 'SQKM', 'SQMILES', 'ACRES', 'VER', 'LAYOUT', 'PENINSULA',\n",
       "       'ShapeSTA_1', 'ShapeSTL_1', 'avg_d_mbps', 'avg_u_mbps', 'year_qtr',\n",
       "       'geometry'],\n",
       "      dtype='object')"
      ]
     },
     "execution_count": 8,
     "metadata": {},
     "output_type": "execute_result"
    }
   ],
   "source": [
    "gdf = None\n",
    "gdf = gpd.read_file(\"./assets/sections_with_network (1).shp\")\n",
    "gdf.columns"
   ]
  },
  {
   "cell_type": "code",
   "execution_count": 9,
   "metadata": {},
   "outputs": [
    {
     "data": {
      "text/html": [
       "<div>\n",
       "<style scoped>\n",
       "    .dataframe tbody tr th:only-of-type {\n",
       "        vertical-align: middle;\n",
       "    }\n",
       "\n",
       "    .dataframe tbody tr th {\n",
       "        vertical-align: top;\n",
       "    }\n",
       "\n",
       "    .dataframe thead th {\n",
       "        text-align: right;\n",
       "    }\n",
       "</style>\n",
       "<table border=\"1\" class=\"dataframe\">\n",
       "  <thead>\n",
       "    <tr style=\"text-align: right;\">\n",
       "      <th></th>\n",
       "      <th>OBJECTID_1</th>\n",
       "      <th>OBJECTID_l</th>\n",
       "      <th>michigan_M</th>\n",
       "      <th>PERIMETER</th>\n",
       "      <th>TOWN</th>\n",
       "      <th>RANGE</th>\n",
       "      <th>SECTION</th>\n",
       "      <th>SEC</th>\n",
       "      <th>TWNRNG</th>\n",
       "      <th>TWNRNGSEC</th>\n",
       "      <th>...</th>\n",
       "      <th>ACRES</th>\n",
       "      <th>VER</th>\n",
       "      <th>LAYOUT</th>\n",
       "      <th>PENINSULA</th>\n",
       "      <th>ShapeSTA_1</th>\n",
       "      <th>ShapeSTL_1</th>\n",
       "      <th>avg_d_mbps</th>\n",
       "      <th>avg_u_mbps</th>\n",
       "      <th>year_qtr</th>\n",
       "      <th>geometry</th>\n",
       "    </tr>\n",
       "  </thead>\n",
       "  <tbody>\n",
       "    <tr>\n",
       "      <th>0</th>\n",
       "      <td>2570</td>\n",
       "      <td>2570</td>\n",
       "      <td>0</td>\n",
       "      <td>6485.97772</td>\n",
       "      <td>51N</td>\n",
       "      <td>06W</td>\n",
       "      <td>36</td>\n",
       "      <td>36</td>\n",
       "      <td>51N06W</td>\n",
       "      <td>51N06W36</td>\n",
       "      <td>...</td>\n",
       "      <td>157328.305068</td>\n",
       "      <td>20</td>\n",
       "      <td>portrait</td>\n",
       "      <td>upper</td>\n",
       "      <td>6.366919e+08</td>\n",
       "      <td>127804.341492</td>\n",
       "      <td>140.191</td>\n",
       "      <td>13.924</td>\n",
       "      <td>None</td>\n",
       "      <td>POLYGON ((-84.98595 46.76794, -85.00682 46.767...</td>\n",
       "    </tr>\n",
       "    <tr>\n",
       "      <th>1</th>\n",
       "      <td>2694</td>\n",
       "      <td>2694</td>\n",
       "      <td>0</td>\n",
       "      <td>6393.37485</td>\n",
       "      <td>50N</td>\n",
       "      <td>06W</td>\n",
       "      <td>01</td>\n",
       "      <td>1</td>\n",
       "      <td>50N06W</td>\n",
       "      <td>50N06W01</td>\n",
       "      <td>...</td>\n",
       "      <td>157328.305068</td>\n",
       "      <td>20</td>\n",
       "      <td>portrait</td>\n",
       "      <td>upper</td>\n",
       "      <td>6.366919e+08</td>\n",
       "      <td>127804.341492</td>\n",
       "      <td>140.191</td>\n",
       "      <td>13.924</td>\n",
       "      <td>None</td>\n",
       "      <td>POLYGON ((-85.00682 46.76797, -84.98595 46.767...</td>\n",
       "    </tr>\n",
       "    <tr>\n",
       "      <th>2</th>\n",
       "      <td>2571</td>\n",
       "      <td>2571</td>\n",
       "      <td>0</td>\n",
       "      <td>6458.82090</td>\n",
       "      <td>51N</td>\n",
       "      <td>05W</td>\n",
       "      <td>31</td>\n",
       "      <td>31</td>\n",
       "      <td>51N05W</td>\n",
       "      <td>51N05W31</td>\n",
       "      <td>...</td>\n",
       "      <td>157328.305068</td>\n",
       "      <td>20</td>\n",
       "      <td>portrait</td>\n",
       "      <td>upper</td>\n",
       "      <td>6.366919e+08</td>\n",
       "      <td>127804.341492</td>\n",
       "      <td>282.976</td>\n",
       "      <td>12.035</td>\n",
       "      <td>None</td>\n",
       "      <td>POLYGON ((-84.98595 46.76794, -84.98585 46.772...</td>\n",
       "    </tr>\n",
       "    <tr>\n",
       "      <th>3</th>\n",
       "      <td>2571</td>\n",
       "      <td>2571</td>\n",
       "      <td>0</td>\n",
       "      <td>6458.82090</td>\n",
       "      <td>51N</td>\n",
       "      <td>05W</td>\n",
       "      <td>31</td>\n",
       "      <td>31</td>\n",
       "      <td>51N05W</td>\n",
       "      <td>51N05W31</td>\n",
       "      <td>...</td>\n",
       "      <td>157328.305068</td>\n",
       "      <td>20</td>\n",
       "      <td>portrait</td>\n",
       "      <td>upper</td>\n",
       "      <td>6.366919e+08</td>\n",
       "      <td>127804.341492</td>\n",
       "      <td>161.031</td>\n",
       "      <td>26.575</td>\n",
       "      <td>None</td>\n",
       "      <td>POLYGON ((-84.98595 46.76794, -84.98585 46.772...</td>\n",
       "    </tr>\n",
       "    <tr>\n",
       "      <th>4</th>\n",
       "      <td>2571</td>\n",
       "      <td>2571</td>\n",
       "      <td>0</td>\n",
       "      <td>6458.82090</td>\n",
       "      <td>51N</td>\n",
       "      <td>05W</td>\n",
       "      <td>31</td>\n",
       "      <td>31</td>\n",
       "      <td>51N05W</td>\n",
       "      <td>51N05W31</td>\n",
       "      <td>...</td>\n",
       "      <td>157328.305068</td>\n",
       "      <td>20</td>\n",
       "      <td>portrait</td>\n",
       "      <td>upper</td>\n",
       "      <td>6.366919e+08</td>\n",
       "      <td>127804.341492</td>\n",
       "      <td>116.792</td>\n",
       "      <td>13.016</td>\n",
       "      <td>None</td>\n",
       "      <td>POLYGON ((-84.98595 46.76794, -84.98585 46.772...</td>\n",
       "    </tr>\n",
       "    <tr>\n",
       "      <th>...</th>\n",
       "      <td>...</td>\n",
       "      <td>...</td>\n",
       "      <td>...</td>\n",
       "      <td>...</td>\n",
       "      <td>...</td>\n",
       "      <td>...</td>\n",
       "      <td>...</td>\n",
       "      <td>...</td>\n",
       "      <td>...</td>\n",
       "      <td>...</td>\n",
       "      <td>...</td>\n",
       "      <td>...</td>\n",
       "      <td>...</td>\n",
       "      <td>...</td>\n",
       "      <td>...</td>\n",
       "      <td>...</td>\n",
       "      <td>...</td>\n",
       "      <td>...</td>\n",
       "      <td>...</td>\n",
       "      <td>...</td>\n",
       "      <td>...</td>\n",
       "    </tr>\n",
       "    <tr>\n",
       "      <th>18290</th>\n",
       "      <td>18159</td>\n",
       "      <td>18159</td>\n",
       "      <td>0</td>\n",
       "      <td>6159.51256</td>\n",
       "      <td>40N</td>\n",
       "      <td>04W</td>\n",
       "      <td>23</td>\n",
       "      <td>23</td>\n",
       "      <td>40N04W</td>\n",
       "      <td>40N04W23</td>\n",
       "      <td>...</td>\n",
       "      <td>85099.650429</td>\n",
       "      <td>20</td>\n",
       "      <td>portrait</td>\n",
       "      <td>upper</td>\n",
       "      <td>3.443898e+08</td>\n",
       "      <td>142477.241684</td>\n",
       "      <td>32.739</td>\n",
       "      <td>11.105</td>\n",
       "      <td>None</td>\n",
       "      <td>POLYGON ((-84.77850 45.85345, -84.77716 45.853...</td>\n",
       "    </tr>\n",
       "    <tr>\n",
       "      <th>18291</th>\n",
       "      <td>18159</td>\n",
       "      <td>18159</td>\n",
       "      <td>0</td>\n",
       "      <td>6159.51256</td>\n",
       "      <td>40N</td>\n",
       "      <td>04W</td>\n",
       "      <td>23</td>\n",
       "      <td>23</td>\n",
       "      <td>40N04W</td>\n",
       "      <td>40N04W23</td>\n",
       "      <td>...</td>\n",
       "      <td>85099.650429</td>\n",
       "      <td>20</td>\n",
       "      <td>portrait</td>\n",
       "      <td>upper</td>\n",
       "      <td>3.443898e+08</td>\n",
       "      <td>142477.241684</td>\n",
       "      <td>25.182</td>\n",
       "      <td>10.108</td>\n",
       "      <td>2019q4</td>\n",
       "      <td>POLYGON ((-84.77850 45.85345, -84.77716 45.853...</td>\n",
       "    </tr>\n",
       "    <tr>\n",
       "      <th>18292</th>\n",
       "      <td>18159</td>\n",
       "      <td>18159</td>\n",
       "      <td>0</td>\n",
       "      <td>6159.51256</td>\n",
       "      <td>40N</td>\n",
       "      <td>04W</td>\n",
       "      <td>23</td>\n",
       "      <td>23</td>\n",
       "      <td>40N04W</td>\n",
       "      <td>40N04W23</td>\n",
       "      <td>...</td>\n",
       "      <td>85099.650429</td>\n",
       "      <td>20</td>\n",
       "      <td>portrait</td>\n",
       "      <td>upper</td>\n",
       "      <td>3.443898e+08</td>\n",
       "      <td>142477.241684</td>\n",
       "      <td>15.847</td>\n",
       "      <td>10.702</td>\n",
       "      <td>2020q1</td>\n",
       "      <td>POLYGON ((-84.77850 45.85345, -84.77716 45.853...</td>\n",
       "    </tr>\n",
       "    <tr>\n",
       "      <th>18293</th>\n",
       "      <td>18159</td>\n",
       "      <td>18159</td>\n",
       "      <td>0</td>\n",
       "      <td>6159.51256</td>\n",
       "      <td>40N</td>\n",
       "      <td>04W</td>\n",
       "      <td>23</td>\n",
       "      <td>23</td>\n",
       "      <td>40N04W</td>\n",
       "      <td>40N04W23</td>\n",
       "      <td>...</td>\n",
       "      <td>85099.650429</td>\n",
       "      <td>20</td>\n",
       "      <td>portrait</td>\n",
       "      <td>upper</td>\n",
       "      <td>3.443898e+08</td>\n",
       "      <td>142477.241684</td>\n",
       "      <td>250.100</td>\n",
       "      <td>14.285</td>\n",
       "      <td>None</td>\n",
       "      <td>POLYGON ((-84.77850 45.85345, -84.77716 45.853...</td>\n",
       "    </tr>\n",
       "    <tr>\n",
       "      <th>18294</th>\n",
       "      <td>18159</td>\n",
       "      <td>18159</td>\n",
       "      <td>0</td>\n",
       "      <td>6159.51256</td>\n",
       "      <td>40N</td>\n",
       "      <td>04W</td>\n",
       "      <td>23</td>\n",
       "      <td>23</td>\n",
       "      <td>40N04W</td>\n",
       "      <td>40N04W23</td>\n",
       "      <td>...</td>\n",
       "      <td>85099.650429</td>\n",
       "      <td>20</td>\n",
       "      <td>portrait</td>\n",
       "      <td>upper</td>\n",
       "      <td>3.443898e+08</td>\n",
       "      <td>142477.241684</td>\n",
       "      <td>84.983</td>\n",
       "      <td>18.620</td>\n",
       "      <td>None</td>\n",
       "      <td>POLYGON ((-84.77850 45.85345, -84.77716 45.853...</td>\n",
       "    </tr>\n",
       "  </tbody>\n",
       "</table>\n",
       "<p>18295 rows × 48 columns</p>\n",
       "</div>"
      ],
      "text/plain": [
       "       OBJECTID_1  OBJECTID_l  michigan_M   PERIMETER TOWN RANGE SECTION  SEC  \\\n",
       "0            2570        2570           0  6485.97772  51N   06W      36   36   \n",
       "1            2694        2694           0  6393.37485  50N   06W      01    1   \n",
       "2            2571        2571           0  6458.82090  51N   05W      31   31   \n",
       "3            2571        2571           0  6458.82090  51N   05W      31   31   \n",
       "4            2571        2571           0  6458.82090  51N   05W      31   31   \n",
       "...           ...         ...         ...         ...  ...   ...     ...  ...   \n",
       "18290       18159       18159           0  6159.51256  40N   04W      23   23   \n",
       "18291       18159       18159           0  6159.51256  40N   04W      23   23   \n",
       "18292       18159       18159           0  6159.51256  40N   04W      23   23   \n",
       "18293       18159       18159           0  6159.51256  40N   04W      23   23   \n",
       "18294       18159       18159           0  6159.51256  40N   04W      23   23   \n",
       "\n",
       "       TWNRNG TWNRNGSEC  ...          ACRES  VER    LAYOUT PENINSULA  \\\n",
       "0      51N06W  51N06W36  ...  157328.305068   20  portrait     upper   \n",
       "1      50N06W  50N06W01  ...  157328.305068   20  portrait     upper   \n",
       "2      51N05W  51N05W31  ...  157328.305068   20  portrait     upper   \n",
       "3      51N05W  51N05W31  ...  157328.305068   20  portrait     upper   \n",
       "4      51N05W  51N05W31  ...  157328.305068   20  portrait     upper   \n",
       "...       ...       ...  ...            ...  ...       ...       ...   \n",
       "18290  40N04W  40N04W23  ...   85099.650429   20  portrait     upper   \n",
       "18291  40N04W  40N04W23  ...   85099.650429   20  portrait     upper   \n",
       "18292  40N04W  40N04W23  ...   85099.650429   20  portrait     upper   \n",
       "18293  40N04W  40N04W23  ...   85099.650429   20  portrait     upper   \n",
       "18294  40N04W  40N04W23  ...   85099.650429   20  portrait     upper   \n",
       "\n",
       "         ShapeSTA_1     ShapeSTL_1  avg_d_mbps  avg_u_mbps  year_qtr  \\\n",
       "0      6.366919e+08  127804.341492     140.191      13.924      None   \n",
       "1      6.366919e+08  127804.341492     140.191      13.924      None   \n",
       "2      6.366919e+08  127804.341492     282.976      12.035      None   \n",
       "3      6.366919e+08  127804.341492     161.031      26.575      None   \n",
       "4      6.366919e+08  127804.341492     116.792      13.016      None   \n",
       "...             ...            ...         ...         ...       ...   \n",
       "18290  3.443898e+08  142477.241684      32.739      11.105      None   \n",
       "18291  3.443898e+08  142477.241684      25.182      10.108    2019q4   \n",
       "18292  3.443898e+08  142477.241684      15.847      10.702    2020q1   \n",
       "18293  3.443898e+08  142477.241684     250.100      14.285      None   \n",
       "18294  3.443898e+08  142477.241684      84.983      18.620      None   \n",
       "\n",
       "                                                geometry  \n",
       "0      POLYGON ((-84.98595 46.76794, -85.00682 46.767...  \n",
       "1      POLYGON ((-85.00682 46.76797, -84.98595 46.767...  \n",
       "2      POLYGON ((-84.98595 46.76794, -84.98585 46.772...  \n",
       "3      POLYGON ((-84.98595 46.76794, -84.98585 46.772...  \n",
       "4      POLYGON ((-84.98595 46.76794, -84.98585 46.772...  \n",
       "...                                                  ...  \n",
       "18290  POLYGON ((-84.77850 45.85345, -84.77716 45.853...  \n",
       "18291  POLYGON ((-84.77850 45.85345, -84.77716 45.853...  \n",
       "18292  POLYGON ((-84.77850 45.85345, -84.77716 45.853...  \n",
       "18293  POLYGON ((-84.77850 45.85345, -84.77716 45.853...  \n",
       "18294  POLYGON ((-84.77850 45.85345, -84.77716 45.853...  \n",
       "\n",
       "[18295 rows x 48 columns]"
      ]
     },
     "execution_count": 9,
     "metadata": {},
     "output_type": "execute_result"
    }
   ],
   "source": [
    "gdf"
   ]
  },
  {
   "cell_type": "code",
   "execution_count": 10,
   "metadata": {},
   "outputs": [
    {
     "name": "stdout",
     "output_type": "stream",
     "text": [
      "2022q3    1382\n",
      "2020q3    1159\n",
      "2023q2    1089\n",
      "2019q4    1036\n",
      "2020q2    1035\n",
      "2019q3     963\n",
      "2022q4     931\n",
      "2020q1     877\n",
      "2020q4     788\n",
      "2023q1     726\n",
      "2019q2     703\n",
      "2019q1     611\n",
      "Name: year_qtr, dtype: int64\n",
      "\u001b[94m\u001b[1mNumber of NaN values in 'year_qtr' column: 6995\n"
     ]
    }
   ],
   "source": [
    "print(gdf['year_qtr'].value_counts())\n",
    "nan_count = gdf['year_qtr'].isna().sum()\n",
    "print(\"\\033[94m\"+\"\\033[1m\"+\"Number of NaN values in 'year_qtr' column:\", nan_count)\n",
    "#You would notice that some year and quarter's data is missing. The time stamp is not continuous."
   ]
  },
  {
   "cell_type": "code",
   "execution_count": 11,
   "metadata": {},
   "outputs": [
    {
     "name": "stdout",
     "output_type": "stream",
     "text": [
      "40N03W      381\n",
      "47N01E07    303\n",
      "47N01E06    212\n",
      "47N01E08    210\n",
      "47N01E05    202\n",
      "           ... \n",
      "41N03E12      1\n",
      "44N11W23      1\n",
      "45N01E33      1\n",
      "50N09W25      1\n",
      "45N02E05      1\n",
      "Name: TWNRNGSEC, Length: 1174, dtype: int64\n",
      "\u001b[94m\u001b[1mTotal number of unique town sections: 1174\n"
     ]
    }
   ],
   "source": [
    "value_counts = gdf['TWNRNGSEC'].value_counts()\n",
    "print(value_counts)\n",
    "#You would notice that some town sections were tested only once.\n",
    "print(\"\\033[94m\"+\"\\033[1m\"+\"Total number of unique town sections:\", len(value_counts))"
   ]
  },
  {
   "cell_type": "code",
   "execution_count": 12,
   "metadata": {},
   "outputs": [
    {
     "name": "stdout",
     "output_type": "stream",
     "text": [
      "\u001b[94m\u001b[1mThe number of town sections which only test once time: 253\n",
      "\u001b[94m\u001b[1mthe ratio of only test once time: 21.55%\n"
     ]
    }
   ],
   "source": [
    "only_once = value_counts[value_counts == 1]\n",
    "print(\"\\033[94m\"+\"\\033[1m\"+\"The number of town sections which only test once time:\", len(only_once))\n",
    "percentage = round((len(only_once) / len(value_counts)) * 100, 2)\n",
    "print(\"\\033[94m\"+\"\\033[1m\"+\"the ratio of only test once time:\", f\"{percentage}%\")\n",
    "# We need to notice the hidden imbalance and unreliable risks in this data, \n",
    "# where the number of tests were so different across each town section, and even up to 21.55% of town sections were tested only once."
   ]
  },
  {
   "cell_type": "code",
   "execution_count": 13,
   "metadata": {},
   "outputs": [
    {
     "data": {
      "text/html": [
       "<div>\n",
       "<style scoped>\n",
       "    .dataframe tbody tr th:only-of-type {\n",
       "        vertical-align: middle;\n",
       "    }\n",
       "\n",
       "    .dataframe tbody tr th {\n",
       "        vertical-align: top;\n",
       "    }\n",
       "\n",
       "    .dataframe thead th {\n",
       "        text-align: right;\n",
       "    }\n",
       "</style>\n",
       "<table border=\"1\" class=\"dataframe\">\n",
       "  <thead>\n",
       "    <tr style=\"text-align: right;\">\n",
       "      <th></th>\n",
       "      <th>OBJECTID_1</th>\n",
       "      <th>OBJECTID_l</th>\n",
       "      <th>michigan_M</th>\n",
       "      <th>PERIMETER</th>\n",
       "      <th>TOWN</th>\n",
       "      <th>RANGE</th>\n",
       "      <th>SECTION</th>\n",
       "      <th>SEC</th>\n",
       "      <th>TWNRNG</th>\n",
       "      <th>TWNRNGSEC</th>\n",
       "      <th>...</th>\n",
       "      <th>ACRES</th>\n",
       "      <th>VER</th>\n",
       "      <th>LAYOUT</th>\n",
       "      <th>PENINSULA</th>\n",
       "      <th>ShapeSTA_1</th>\n",
       "      <th>ShapeSTL_1</th>\n",
       "      <th>avg_d_mbps</th>\n",
       "      <th>avg_u_mbps</th>\n",
       "      <th>year_qtr</th>\n",
       "      <th>geometry</th>\n",
       "    </tr>\n",
       "  </thead>\n",
       "  <tbody>\n",
       "    <tr>\n",
       "      <th>8601</th>\n",
       "      <td>11515</td>\n",
       "      <td>11515</td>\n",
       "      <td>0</td>\n",
       "      <td>6358.15631</td>\n",
       "      <td>44N</td>\n",
       "      <td>01W</td>\n",
       "      <td>13</td>\n",
       "      <td>13</td>\n",
       "      <td>44N01W</td>\n",
       "      <td>44N01W13</td>\n",
       "      <td>...</td>\n",
       "      <td>76514.519875</td>\n",
       "      <td>20</td>\n",
       "      <td>landscape</td>\n",
       "      <td>upper</td>\n",
       "      <td>3.096466e+08</td>\n",
       "      <td>93338.085639</td>\n",
       "      <td>121.243</td>\n",
       "      <td>9.875</td>\n",
       "      <td>None</td>\n",
       "      <td>POLYGON ((-84.36353 46.21553, -84.36351 46.201...</td>\n",
       "    </tr>\n",
       "  </tbody>\n",
       "</table>\n",
       "<p>1 rows × 48 columns</p>\n",
       "</div>"
      ],
      "text/plain": [
       "      OBJECTID_1  OBJECTID_l  michigan_M   PERIMETER TOWN RANGE SECTION  SEC  \\\n",
       "8601       11515       11515           0  6358.15631  44N   01W      13   13   \n",
       "\n",
       "      TWNRNG TWNRNGSEC  ...         ACRES  VER     LAYOUT PENINSULA  \\\n",
       "8601  44N01W  44N01W13  ...  76514.519875   20  landscape     upper   \n",
       "\n",
       "        ShapeSTA_1    ShapeSTL_1  avg_d_mbps  avg_u_mbps  year_qtr  \\\n",
       "8601  3.096466e+08  93338.085639     121.243       9.875      None   \n",
       "\n",
       "                                               geometry  \n",
       "8601  POLYGON ((-84.36353 46.21553, -84.36351 46.201...  \n",
       "\n",
       "[1 rows x 48 columns]"
      ]
     },
     "execution_count": 13,
     "metadata": {},
     "output_type": "execute_result"
    }
   ],
   "source": [
    "gdf.sample(1)"
   ]
  },
  {
   "cell_type": "markdown",
   "metadata": {},
   "source": [
    "## STEP 2: PCA analysis"
   ]
  },
  {
   "cell_type": "code",
   "execution_count": 14,
   "metadata": {},
   "outputs": [
    {
     "name": "stdout",
     "output_type": "stream",
     "text": [
      "           avg_d_mbps  avg_u_mbps  avg_lat_ms\n",
      "TWNRNGSEC                                    \n",
      "40N02W18    19.708444    1.557111   60.222222\n",
      "40N02W19    31.219852    4.015037   60.555556\n",
      "40N03W      49.258286   12.611013   44.359580\n",
      "40N03W02    51.946333    8.033333   68.333333\n",
      "40N03W06    88.839830   10.249955   26.011364\n",
      "...               ...         ...         ...\n",
      "50N09W25    36.858000    2.228000  643.000000\n",
      "50N09W26    36.858000    2.228000  643.000000\n",
      "50N12W32     7.042000    1.058000   22.000000\n",
      "51N05W31   204.484286   19.825429   54.142857\n",
      "51N06W36   140.191000   13.924000   57.000000\n",
      "\n",
      "[1174 rows x 3 columns]\n"
     ]
    }
   ],
   "source": [
    "selected_df=gdf[['TWNRNGSEC','avg_d_mbps','avg_u_mbps','avg_lat_ms','geometry']]\n",
    "grouped_df = selected_df.groupby(['TWNRNGSEC']).mean()\n",
    "print(grouped_df)\n",
    "# In order to get one set of value of network metrics for each Town section."
   ]
  },
  {
   "cell_type": "code",
   "execution_count": 15,
   "metadata": {},
   "outputs": [],
   "source": [
    "from sklearn.preprocessing import StandardScaler\n",
    "\n",
    "def get_normalize():\n",
    "    np.random.seed(42)\n",
    "    result = None\n",
    "    result = StandardScaler().fit_transform(grouped_df)\n",
    "    return result"
   ]
  },
  {
   "cell_type": "code",
   "execution_count": 16,
   "metadata": {},
   "outputs": [
    {
     "data": {
      "image/png": "[encoded data removed]",
      "text/plain": [
       "<Figure size 432x288 with 1 Axes>"
      ]
     },
     "metadata": {
      "needs_background": "light"
     },
     "output_type": "display_data"
    }
   ],
   "source": [
    "#Creat a cumulative variance explained plot,\n",
    "#it typically used to help determine how many principal components (dimensions) to retain in Principal Component Analysis (PCA).\n",
    "from sklearn.decomposition import PCA\n",
    "import matplotlib.pyplot as plt\n",
    "pca=None\n",
    "pca = PCA(random_state=42).fit(get_normalize())  \n",
    "explained_variance_ratio = pca.explained_variance_ratio_\n",
    "cumulative_variance_ratio = explained_variance_ratio.cumsum()\n",
    "plt.plot(range(1, len(cumulative_variance_ratio) + 1), cumulative_variance_ratio, marker='o', linestyle='--')\n",
    "plt.xlabel('Number of Principal Components')\n",
    "plt.ylabel('Cumulative Variance Explained')\n",
    "plt.title('Plot1:Cumulative Variance Explained by Principal Components')\n",
    "plt.grid()\n",
    "plt.show()"
   ]
  },
  {
   "cell_type": "code",
   "execution_count": 17,
   "metadata": {},
   "outputs": [
    {
     "name": "stdout",
     "output_type": "stream",
     "text": [
      "\u001b[94m\u001b[1mThe components we need in PCA: 3\n"
     ]
    }
   ],
   "source": [
    "cumulative_variance_ratio = explained_variance_ratio.cumsum()\n",
    "desired_variance_ratio = 0.95  #  set 95% as cumulative variance explained threshold\n",
    "components_needed = np.where(cumulative_variance_ratio >= desired_variance_ratio)[0][0] + 1\n",
    "components_needed\n",
    "print(\"\\033[94m\"+\"\\033[1m\"+\"The components we need in PCA:\", components_needed)"
   ]
  },
  {
   "cell_type": "code",
   "execution_count": 18,
   "metadata": {},
   "outputs": [],
   "source": [
    "# We input n_components = 3, don't forget set random_state = 42 to ensure reproducibility\n",
    "from sklearn.decomposition import PCA\n",
    "def get_pca():\n",
    "    result = None\n",
    "    pca = PCA(n_components = 3, random_state = 42)\n",
    "    result = pca.fit(get_normalize())# haven't transformed,just fit\n",
    "    return result"
   ]
  },
  {
   "cell_type": "markdown",
   "metadata": {},
   "source": [
    "## STEP 3: LOF to detect Outliers"
   ]
  },
  {
   "cell_type": "code",
   "execution_count": 19,
   "metadata": {},
   "outputs": [
    {
     "name": "stdout",
     "output_type": "stream",
     "text": [
      "\u001b[94m\u001b[1mBest Parameters: {'n_neighbors': 40, 'contamination': 0.01}\n",
      "\u001b[94m\u001b[1mBest Silhouette Score: 0.8098866225181635\n"
     ]
    }
   ],
   "source": [
    "#Local Outlier Factor (LOF) algorithm to detect outliers in a dataset and find the best LOF parameter combination. \n",
    "\n",
    "from sklearn.neighbors import LocalOutlierFactor\n",
    "from sklearn.metrics import silhouette_score\n",
    "np.random.seed(42)\n",
    "normalized_data = get_normalize()\n",
    "pca_transformed = get_pca().transform(normalized_data)\n",
    "\n",
    "n_neighbors_values = [10,20,30,40,50,60,70,80,90,100]\n",
    "contamination_values = [0.01, 0.05, 0.1, 0.2]\n",
    "\n",
    "best_silhouette_score = -1\n",
    "best_params = {}\n",
    "\n",
    "for n_neighbors in n_neighbors_values:\n",
    "    for contamination in contamination_values:\n",
    "        lof = LocalOutlierFactor(n_neighbors=n_neighbors, contamination=contamination)\n",
    "        y_pred = lof.fit_predict(pca_transformed)  \n",
    "        silhouette_avg = silhouette_score(pca_transformed, y_pred)\n",
    "\n",
    "        if silhouette_avg > best_silhouette_score:\n",
    "            best_silhouette_score = silhouette_avg\n",
    "            best_params['n_neighbors'] = n_neighbors\n",
    "            best_params['contamination'] = contamination\n",
    "\n",
    "print(\"\\033[94m\"+\"\\033[1m\"+\"Best Parameters:\", best_params)\n",
    "print(\"\\033[94m\"+\"\\033[1m\"+\"Best Silhouette Score:\", best_silhouette_score)"
   ]
  },
  {
   "cell_type": "code",
   "execution_count": 20,
   "metadata": {},
   "outputs": [
    {
     "name": "stdout",
     "output_type": "stream",
     "text": [
      "\u001b[94m\u001b[1mWithout Outliers number is: 1162 (total is 1174)\n",
      "\u001b[94m\u001b[1mOutliers number is: 12 (total is 1174)\n"
     ]
    }
   ],
   "source": [
    "# Detecting Outliers Using LOF\n",
    "lof = LocalOutlierFactor(n_neighbors=40, contamination=0.01)  # 根据需要调整参数\n",
    "y_pred = lof.fit_predict(pca_transformed)\n",
    "y_pred_series = pd.Series(y_pred)\n",
    "y_pred_series.value_counts()\n",
    "print(\"\\033[94m\"+\"\\033[1m\"+\"Without Outliers number is:\",y_pred_series.value_counts()[1],\"(total is 1174)\")\n",
    "print(\"\\033[94m\"+\"\\033[1m\"+\"Outliers number is:\",y_pred_series.value_counts()[-1],\"(total is 1174)\")"
   ]
  },
  {
   "cell_type": "markdown",
   "metadata": {},
   "source": [
    "## STEP 4: Remove Outliers from Original Dataset"
   ]
  },
  {
   "cell_type": "code",
   "execution_count": 21,
   "metadata": {},
   "outputs": [
    {
     "name": "stdout",
     "output_type": "stream",
     "text": [
      "\u001b[94m\u001b[1mOutliers Town Section ID are: Index(['42N04E29', '42N04E32', '42N04E33', '42N06E21', '43N01E03', '43N10W05',\n",
      "       '43N12W07', '44N01E34', '45N01W15', '46N02W10', '46N10W34', '48N01E36'],\n",
      "      dtype='object', name='TWNRNGSEC')\n",
      "\n",
      "\u001b[94m\u001b[1mNew mean dataset length is: 16380 and Original mean dataset length is: 18295\n"
     ]
    },
    {
     "data": {
      "text/html": [
       "<div>\n",
       "<style scoped>\n",
       "    .dataframe tbody tr th:only-of-type {\n",
       "        vertical-align: middle;\n",
       "    }\n",
       "\n",
       "    .dataframe tbody tr th {\n",
       "        vertical-align: top;\n",
       "    }\n",
       "\n",
       "    .dataframe thead th {\n",
       "        text-align: right;\n",
       "    }\n",
       "</style>\n",
       "<table border=\"1\" class=\"dataframe\">\n",
       "  <thead>\n",
       "    <tr style=\"text-align: right;\">\n",
       "      <th></th>\n",
       "      <th>avg_d_mbps</th>\n",
       "      <th>avg_u_mbps</th>\n",
       "      <th>avg_lat_ms</th>\n",
       "    </tr>\n",
       "    <tr>\n",
       "      <th>TWNRNGSEC</th>\n",
       "      <th></th>\n",
       "      <th></th>\n",
       "      <th></th>\n",
       "    </tr>\n",
       "  </thead>\n",
       "  <tbody>\n",
       "    <tr>\n",
       "      <th>40N02W18</th>\n",
       "      <td>19.708444</td>\n",
       "      <td>1.557111</td>\n",
       "      <td>60.222222</td>\n",
       "    </tr>\n",
       "    <tr>\n",
       "      <th>40N02W19</th>\n",
       "      <td>31.219852</td>\n",
       "      <td>4.015037</td>\n",
       "      <td>60.555556</td>\n",
       "    </tr>\n",
       "    <tr>\n",
       "      <th>40N03W</th>\n",
       "      <td>49.258286</td>\n",
       "      <td>12.611013</td>\n",
       "      <td>44.359580</td>\n",
       "    </tr>\n",
       "    <tr>\n",
       "      <th>40N03W02</th>\n",
       "      <td>51.946333</td>\n",
       "      <td>8.033333</td>\n",
       "      <td>68.333333</td>\n",
       "    </tr>\n",
       "    <tr>\n",
       "      <th>40N03W06</th>\n",
       "      <td>88.839830</td>\n",
       "      <td>10.249955</td>\n",
       "      <td>26.011364</td>\n",
       "    </tr>\n",
       "    <tr>\n",
       "      <th>...</th>\n",
       "      <td>...</td>\n",
       "      <td>...</td>\n",
       "      <td>...</td>\n",
       "    </tr>\n",
       "    <tr>\n",
       "      <th>50N09W25</th>\n",
       "      <td>36.858000</td>\n",
       "      <td>2.228000</td>\n",
       "      <td>643.000000</td>\n",
       "    </tr>\n",
       "    <tr>\n",
       "      <th>50N09W26</th>\n",
       "      <td>36.858000</td>\n",
       "      <td>2.228000</td>\n",
       "      <td>643.000000</td>\n",
       "    </tr>\n",
       "    <tr>\n",
       "      <th>50N12W32</th>\n",
       "      <td>7.042000</td>\n",
       "      <td>1.058000</td>\n",
       "      <td>22.000000</td>\n",
       "    </tr>\n",
       "    <tr>\n",
       "      <th>51N05W31</th>\n",
       "      <td>204.484286</td>\n",
       "      <td>19.825429</td>\n",
       "      <td>54.142857</td>\n",
       "    </tr>\n",
       "    <tr>\n",
       "      <th>51N06W36</th>\n",
       "      <td>140.191000</td>\n",
       "      <td>13.924000</td>\n",
       "      <td>57.000000</td>\n",
       "    </tr>\n",
       "  </tbody>\n",
       "</table>\n",
       "<p>1162 rows × 3 columns</p>\n",
       "</div>"
      ],
      "text/plain": [
       "           avg_d_mbps  avg_u_mbps  avg_lat_ms\n",
       "TWNRNGSEC                                    \n",
       "40N02W18    19.708444    1.557111   60.222222\n",
       "40N02W19    31.219852    4.015037   60.555556\n",
       "40N03W      49.258286   12.611013   44.359580\n",
       "40N03W02    51.946333    8.033333   68.333333\n",
       "40N03W06    88.839830   10.249955   26.011364\n",
       "...               ...         ...         ...\n",
       "50N09W25    36.858000    2.228000  643.000000\n",
       "50N09W26    36.858000    2.228000  643.000000\n",
       "50N12W32     7.042000    1.058000   22.000000\n",
       "51N05W31   204.484286   19.825429   54.142857\n",
       "51N06W36   140.191000   13.924000   57.000000\n",
       "\n",
       "[1162 rows x 3 columns]"
      ]
     },
     "execution_count": 21,
     "metadata": {},
     "output_type": "execute_result"
    }
   ],
   "source": [
    "#Removing Rows of Outlier Town Sections from the Original Data\n",
    "grouped_df['y_pred'] = y_pred_series.values\n",
    "no_outliers_grouped_df = grouped_df[grouped_df['y_pred']==1]\n",
    "no_outlier_TWNRNGSEC = no_outliers_grouped_df.index\n",
    "outlier_TWNRNGSEC = grouped_df[grouped_df['y_pred']==-1].index\n",
    "print(\"\\033[94m\"+\"\\033[1m\"+\"Outliers Town Section ID are:\",outlier_TWNRNGSEC )\n",
    "selected_df_new =selected_df[selected_df['TWNRNGSEC'].isin(no_outlier_TWNRNGSEC)]\n",
    "print()\n",
    "print(\"\\033[94m\"+\"\\033[1m\"+\"New mean dataset length is:\",len(selected_df_new),\"and Original mean dataset length is:\",len(selected_df)) \n",
    "no_outliers_grouped_df = no_outliers_grouped_df.drop(columns=['y_pred'])\n",
    "no_outliers_grouped_df"
   ]
  },
  {
   "cell_type": "markdown",
   "metadata": {},
   "source": [
    "## STEP 5: Derive New PCA model from new dataset"
   ]
  },
  {
   "cell_type": "code",
   "execution_count": 22,
   "metadata": {},
   "outputs": [],
   "source": [
    "# Based on the new data with outliers removed, derive a new PCA model.\n",
    "def get_new_normalize():\n",
    "    np.random.seed(42)\n",
    "    result = None\n",
    "    result = StandardScaler().fit_transform(no_outliers_grouped_df)\n",
    "    return result\n",
    "\n",
    "def get_new_pca():\n",
    "    np.random.seed(42)\n",
    "    result = None\n",
    "    pca = PCA(n_components = 3, random_state = 42)\n",
    "    result = pca.fit(get_new_normalize())#haven't transform\n",
    "    return result"
   ]
  },
  {
   "cell_type": "code",
   "execution_count": 23,
   "metadata": {},
   "outputs": [
    {
     "data": {
      "image/png": "[encoded data removed]",
      "text/plain": [
       "<Figure size 576x432 with 2 Axes>"
      ]
     },
     "metadata": {
      "needs_background": "light"
     },
     "output_type": "display_data"
    }
   ],
   "source": [
    "def plot_pca_heatmap():\n",
    "    pc_names=[\"PC1\",\"PC2\",\"PC3\"]\n",
    "    fig,ax = plt.subplots(figsize=(8,6))\n",
    "    pca_components_to_show = get_new_pca().components_[:3, :]\n",
    "    plt.imshow(pca_components_to_show,cmap = 'plasma')\n",
    "    plt.xticks(np.arange(0,3,1),['avg_d_mbps','avg_u_mbps','avg_lat_ms'],rotation =0, fontsize=16)\n",
    "    plt.yticks(np.arange(0,3,1),pc_names,fontsize=16)\n",
    "    plt.title('Plot2: PCA Heatmap')\n",
    "    plt.colorbar()\n",
    "    plt.tight_layout()\n",
    "    return \n",
    "plot_pca_heatmap()"
   ]
  },
  {
   "cell_type": "code",
   "execution_count": 24,
   "metadata": {},
   "outputs": [
    {
     "name": "stdout",
     "output_type": "stream",
     "text": [
      "\u001b[94m\u001b[1mPC1 weight for avg_d_mbps: 0.64\n",
      "\u001b[94m\u001b[1mPC1 weight for avg_u_mbps: 0.61\n",
      "\u001b[94m\u001b[1mPC1 weight for avg_lat_ms: -0.47\n",
      "\u001b[94m\u001b[1mPC2 weight for avg_d_mbps: 0.26\n",
      "\u001b[94m\u001b[1mPC2 weight for avg_u_mbps: 0.41\n",
      "\u001b[94m\u001b[1mPC2 weight for avg_lat_ms: 0.88\n",
      "\u001b[94m\u001b[1mPC3 weight for avg_d_mbps: -0.73\n",
      "\u001b[94m\u001b[1mPC3 weight for avg_u_mbps: 0.68\n",
      "\u001b[94m\u001b[1mPC3 weight for avg_lat_ms: -0.10\n",
      "Variance of PC1: 1.86\n",
      "Variance of PC2: 0.76\n",
      "Variance of PC3: 0.38\n",
      "Variance Ratio of PC1: 0.62\n",
      "Variance Ratio of PC2: 0.25\n",
      "Variance Ratio of PC3: 0.13\n"
     ]
    }
   ],
   "source": [
    "pca = get_new_pca()\n",
    "# Get the weights for the first two principal components\n",
    "weights = pca.components_[:3, :]\n",
    "# Iterate through the principal components and features\n",
    "for i, pc in enumerate(weights):\n",
    "    for j, feature in enumerate(['avg_d_mbps', 'avg_u_mbps', 'avg_lat_ms']):\n",
    "        # Format the weight to two decimal places\n",
    "        weight_formatted = f\"{pc[j]:.2f}\"\n",
    "        print(\"\\033[94m\"+\"\\033[1m\"+f\"PC{i + 1} weight for {feature}: {weight_formatted}\")\n",
    "\n",
    "# Get the variance (eigenvalues) of PCA\n",
    "eigenvalues = pca.explained_variance_\n",
    "\n",
    "# Calculate the variance of Principal Component 1 (PC1)\n",
    "variance_pc1 = eigenvalues[0]\n",
    "\n",
    "# Calculate the variance of Principal Component 2 (PC2)\n",
    "variance_pc2 = eigenvalues[1]\n",
    "\n",
    "# Calculate the variance of Principal Component 3 (PC3)\n",
    "variance_pc3 = eigenvalues[2]\n",
    "\n",
    "# Calculate the variance contribution ratio\n",
    "total_variance = sum(eigenvalues)\n",
    "variance_ratio_pc1 = variance_pc1 / total_variance\n",
    "variance_ratio_pc2 = variance_pc2 / total_variance\n",
    "variance_ratio_pc3 = variance_pc3 / total_variance\n",
    "\n",
    "# Format the values with two decimal places\n",
    "variance_pc1_formatted = \"{:.2f}\".format(variance_pc1)\n",
    "variance_pc2_formatted = \"{:.2f}\".format(variance_pc2)\n",
    "variance_pc3_formatted = \"{:.2f}\".format(variance_pc3)\n",
    "variance_ratio_pc1_formatted = \"{:.2f}\".format(variance_ratio_pc1)\n",
    "variance_ratio_pc2_formatted = \"{:.2f}\".format(variance_ratio_pc2)\n",
    "variance_ratio_pc3_formatted = \"{:.2f}\".format(variance_ratio_pc3)\n",
    "\n",
    "\n",
    "print(\"Variance of PC1:\", variance_pc1_formatted)\n",
    "print(\"Variance of PC2:\", variance_pc2_formatted)\n",
    "print(\"Variance of PC3:\", variance_pc3_formatted)\n",
    "print(\"Variance Ratio of PC1:\", variance_ratio_pc1_formatted)\n",
    "print(\"Variance Ratio of PC2:\", variance_ratio_pc2_formatted)\n",
    "print(\"Variance Ratio of PC3:\", variance_ratio_pc3_formatted)\n"
   ]
  },
  {
   "cell_type": "markdown",
   "metadata": {},
   "source": [
    "**FINDING 1:**\n",
    "\n",
    "- PC1: 0.64 * avg_d_mbps + 0.61 * avg_u_mbps - 0.47 * avg_lat_ms\n",
    "- PC2: 0.26 * avg_d_mbps + 0.41 * avg_u_mbps + 0.88 * avg_lat_ms\n",
    "- PC3: -0.73 * avg_d_mbps + 0.68 * avg_u_mbps - 0.10 * avg_lat_ms\n",
    "\n",
    "\n",
    "PC1 has high positive weights for 'avg_d_mbps' (0.64) and 'avg_u_mbps' (0.61), suggesting a strong association with network speed. However, it has a negative weight for 'avg_lat_ms' (-0.47), indicating an inverse relationship in network latency.\n",
    "\n",
    "PC2 has positive weights for 'avg_u_mbps' (0.41) and 'avg_lat_ms' (0.88), showing a connection between upload speed and latency.\n",
    "\n",
    "PC3 has negative correlation with 'avg_d_mbps'(-0.73), and shows a positive correlation with 'avg_u_mbps'(0.67), indicating that an increase in upload speed leads to a higher PC3 value.\n",
    "\n",
    "Variance of PC1 is 1.86, and it contributes about 62% (Variance Ratio of PC1) of the total data variance.\n",
    "\n",
    "Variance of PC2 is 0.76, and it contributes approximately 25% (Variance Ratio of PC2) of the total data variance.\n",
    "\n",
    "Variance of PC23 is 0.38, and it contributes approximately 13% (Variance Ratio of PC3) of the total data variance.\n",
    "\n",
    "\n",
    "**In summary**\n",
    "\n",
    "1）PC1 is associated with network speed (download and upload) but has an inverse relationship with latency.PC2 is linked to upload speed and latency.PC3 has inverse relationship with download speed and linked to upload speed.\n",
    "\n",
    "2）PC1 explains a larger portion of the data's variance（62%）, indicating its significance in understanding network performance patterns. PC2 contributes at some extent（25%）, and PC3 also contributes 13%, suggesting their role in complementing the understanding of the dataset's variability."
   ]
  },
  {
   "cell_type": "code",
   "execution_count": 25,
   "metadata": {},
   "outputs": [
    {
     "data": {
      "text/plain": [
       "<Figure size 576x432 with 0 Axes>"
      ]
     },
     "metadata": {},
     "output_type": "display_data"
    },
    {
     "data": {
      "image/png": "[encoded data removed]",
      "text/plain": [
       "<Figure size 720x648 with 1 Axes>"
      ]
     },
     "metadata": {
      "needs_background": "light"
     },
     "output_type": "display_data"
    }
   ],
   "source": [
    "#Biplots are helpful for exploring and understanding complex datasets, identifying relationships between variables and observations samples.\n",
    "%matplotlib inline\n",
    "def biplot(score, coeff, maxdim, pcax, pcay, labels=None):\n",
    "    \"\"\"Routine to generate a high-quality biplot\"\"\"\n",
    "\n",
    "    pca1 = pcax - 1\n",
    "    pca2 = pcay - 1\n",
    "    xs = score[:, pca1]\n",
    "    ys = score[:, pca2]\n",
    "    n = min(coeff.shape[0], maxdim)\n",
    "    scalex = 2.0 / (xs.max() - xs.min())\n",
    "    scaley = 2.0 / (ys.max() - ys.min())\n",
    "\n",
    "    text_scale_factor = 1.2\n",
    "\n",
    "    plt.figure(figsize=(10, 9))\n",
    "    plt.scatter(xs * scalex, ys * scaley, s=1)\n",
    "\n",
    "\n",
    "    for i in range(n):\n",
    "        plt.arrow(0, 0, coeff[i, pca1], coeff[i, pca2], color=\"r\", alpha=0.5)\n",
    "        if labels is None:\n",
    "            plt.text(\n",
    "                coeff[i, pca1] * text_scale_factor,\n",
    "                coeff[i, pca2] * text_scale_factor,\n",
    "                \"Var\" + str(i + 1),\n",
    "                color=\"g\",\n",
    "                ha=\"center\",\n",
    "                va=\"center\",\n",
    "            )\n",
    "        else:\n",
    "            plt.text(\n",
    "                coeff[i, pca1] * text_scale_factor,\n",
    "                coeff[i, pca2],\n",
    "                labels[i],\n",
    "                color=\"g\",\n",
    "                ha=\"center\",\n",
    "                va=\"center\",\n",
    "            )\n",
    "    plt.xlim(-1, 1)\n",
    "    plt.ylim(-1, 1)\n",
    "    plt.xlabel(\"PC{}\".format(pcax))\n",
    "    plt.ylabel(\"PC{}\".format(pcay))\n",
    "    plt.grid()\n",
    "    plt.tight_layout()\n",
    "\n",
    "    return\n",
    "\n",
    "\n",
    "def make_biplot():\n",
    "    \n",
    "    normalized_new_data = get_new_normalize()\n",
    "    pca_non_transformed_new = get_new_pca()\n",
    "    pca_transformed_new = pca_non_transformed_new.transform(normalized_new_data)\n",
    "    plt.figure(figsize=(8, 6))\n",
    "\n",
    "    biplot(\n",
    "       pca_transformed_new, np.transpose(get_new_pca().components_[0:2, :]), 3, 1, 2, labels=['avg_d_mbps','avg_u_mbps','avg_lat_ms']\n",
    "    )\n",
    "    plt.title('Plot3: Biplot with samples')\n",
    "    return\n",
    "\n",
    "make_biplot()"
   ]
  },
  {
   "cell_type": "markdown",
   "metadata": {},
   "source": [
    "## STEP 6: Use KMeans to get Clustering"
   ]
  },
  {
   "cell_type": "code",
   "execution_count": 26,
   "metadata": {},
   "outputs": [
    {
     "data": {
      "image/png": "[encoded data removed]",
      "text/plain": [
       "<Figure size 576x432 with 1 Axes>"
      ]
     },
     "metadata": {
      "needs_background": "light"
     },
     "output_type": "display_data"
    }
   ],
   "source": [
    "from sklearn.cluster import KMeans\n",
    "import matplotlib.pyplot as plt\n",
    "np.random.seed(42)\n",
    "normalized_new_data = get_new_normalize()\n",
    "pca_transformed_new = get_new_pca().transform(normalized_new_data)\n",
    "\n",
    "# define the range of K\n",
    "k_values = range(2, 16)\n",
    "inertias = []\n",
    "\n",
    "\n",
    "for k in k_values:\n",
    "    kmeans = None\n",
    "    kmeans = KMeans(n_clusters=k, random_state=42)\n",
    "    kmeans.fit(pca_transformed_new)\n",
    "    inertias.append(kmeans.inertia_)\n",
    "\n",
    "plt.figure(figsize=(8, 6))\n",
    "plt.plot(k_values, inertias, marker='o')\n",
    "plt.xlabel('Number of Clusters (K)')\n",
    "plt.ylabel('Inertia')\n",
    "plt.title('Plot4: Elbow Method for Optimal K for KMeans')\n",
    "plt.grid(True)\n",
    "plt.show()"
   ]
  },
  {
   "cell_type": "code",
   "execution_count": 27,
   "metadata": {},
   "outputs": [
    {
     "name": "stdout",
     "output_type": "stream",
     "text": [
      "\u001b[94m\u001b[1mBest K value(K-means): 5\n",
      "\u001b[94m\u001b[1mBest Calinski-Harabasz score(K-means): 1138.5396573608805\n",
      "\u001b[94m\u001b[1mBest Davies-Bouldin score(K-means): 0.7306407004457093\n"
     ]
    }
   ],
   "source": [
    "from sklearn.metrics import calinski_harabasz_score, davies_bouldin_score\n",
    "normalized_new_data = get_new_normalize()\n",
    "pca_transformed_new =get_new_pca().transform(normalized_new_data)\n",
    "# set range of k value\n",
    "k_values = range(2, 11)\n",
    "best_calinski_harabasz = -1\n",
    "best_davies_bouldin = float(\"inf\")\n",
    "best_k = 0\n",
    "for k in k_values:\n",
    "    kmeans=None\n",
    "    kmeans = KMeans(n_clusters=k, random_state=42)\n",
    "    kmeans = kmeans.fit(pca_transformed_new)\n",
    "    labels = kmeans.labels_\n",
    "    calinski_harabasz = calinski_harabasz_score(pca_transformed_new, labels)\n",
    "    davies_bouldin = davies_bouldin_score(pca_transformed_new, labels)    \n",
    "    if calinski_harabasz > best_calinski_harabasz and davies_bouldin < best_davies_bouldin:\n",
    "        best_calinski_harabasz = calinski_harabasz\n",
    "        best_davies_bouldin = davies_bouldin\n",
    "        best_k = k\n",
    "print(\"\\033[94m\"+\"\\033[1m\"+\"Best K value(K-means):\", best_k)\n",
    "print(\"\\033[94m\"+\"\\033[1m\"+\"Best Calinski-Harabasz score(K-means):\", best_calinski_harabasz)\n",
    "print(\"\\033[94m\"+\"\\033[1m\"+\"Best Davies-Bouldin score(K-means):\", best_davies_bouldin)"
   ]
  },
  {
   "cell_type": "code",
   "execution_count": 28,
   "metadata": {},
   "outputs": [],
   "source": [
    "def get_kmeans(best_k = 5):\n",
    "    result = None\n",
    "    kmeans = KMeans(n_clusters=best_k, random_state=42)\n",
    "    result = kmeans.fit(pca_transformed_new)  \n",
    "    return result  \n"
   ]
  },
  {
   "cell_type": "code",
   "execution_count": 29,
   "metadata": {},
   "outputs": [
    {
     "data": {
      "image/png": "[encoded data removed]",
      "text/plain": [
       "<Figure size 864x576 with 1 Axes>"
      ]
     },
     "metadata": {
      "needs_background": "light"
     },
     "output_type": "display_data"
    }
   ],
   "source": [
    "from mpl_toolkits.mplot3d import Axes3D  \n",
    "\n",
    "def kmeans_3d_plot():\n",
    "    kmeans = get_kmeans(best_k = 5)\n",
    "    cluster_labels = list(kmeans.labels_)\n",
    "    X = list(pca_transformed_new[:,0])\n",
    "    Y = list(pca_transformed_new[:,1])\n",
    "    Z = list(pca_transformed_new[:,2])\n",
    " \n",
    "    fig = plt.figure(figsize=(12, 8)) \n",
    "    ax = fig.add_subplot(projection='3d') \n",
    "\n",
    "    sc = ax.scatter(X, Y, Z, c=cluster_labels, cmap='viridis', marker='o',s=5)\n",
    "    ax.set_xlabel('avg_d_mbps')\n",
    "    ax.set_ylabel('avg_u_mbps')\n",
    "    ax.set_zlabel('avg_lat_ms')\n",
    "    ax.set_title('Plot5: Kmeans 3D Plot')\n",
    "    \n",
    "    legend = ax.legend(*sc.legend_elements(), loc=\"lower right\", title=\"Clusters\")\n",
    "    ax.add_artist(legend)\n",
    "    \n",
    "\n",
    "    ax.set_xlim([min(X), max(X)])\n",
    "    ax.set_ylim([min(Y), max(Y)])\n",
    "    ax.set_zlim([min(Z), max(Z)])\n",
    " \n",
    "    plt.show()\n",
    "\n",
    "    return \n",
    "kmeans_3d_plot()"
   ]
  },
  {
   "cell_type": "markdown",
   "metadata": {},
   "source": [
    "## STEP 7: Use KMedoids to get Clustering"
   ]
  },
  {
   "cell_type": "code",
   "execution_count": 30,
   "metadata": {
    "scrolled": true
   },
   "outputs": [
    {
     "name": "stdout",
     "output_type": "stream",
     "text": [
      "Collecting scikit-learn-extra\n",
      "  Downloading scikit_learn_extra-0.3.0-cp37-cp37m-manylinux2010_x86_64.whl (1.7 MB)\n",
      "\u001b[K     |████████████████████████████████| 1.7 MB 28.9 MB/s eta 0:00:01\n",
      "\u001b[?25hRequirement already satisfied: scipy>=0.19.1 in /opt/conda/lib/python3.7/site-packages (from scikit-learn-extra) (1.4.1)\n",
      "Requirement already satisfied: scikit-learn>=0.23.0 in /opt/conda/lib/python3.7/site-packages (from scikit-learn-extra) (0.24.1)\n",
      "Requirement already satisfied: numpy>=1.13.3 in /opt/conda/lib/python3.7/site-packages (from scikit-learn-extra) (1.20.1)\n",
      "Requirement already satisfied: threadpoolctl>=2.0.0 in /opt/conda/lib/python3.7/site-packages (from scikit-learn>=0.23.0->scikit-learn-extra) (2.1.0)\n",
      "Requirement already satisfied: joblib>=0.11 in /opt/conda/lib/python3.7/site-packages (from scikit-learn>=0.23.0->scikit-learn-extra) (1.0.1)\n",
      "Installing collected packages: scikit-learn-extra\n",
      "Successfully installed scikit-learn-extra-0.3.0\n"
     ]
    }
   ],
   "source": [
    "!pip install scikit-learn-extra"
   ]
  },
  {
   "cell_type": "code",
   "execution_count": 33,
   "metadata": {},
   "outputs": [
    {
     "data": {
      "image/png": "[encoded data removed]",
      "text/plain": [
       "<Figure size 576x432 with 1 Axes>"
      ]
     },
     "metadata": {
      "needs_background": "light"
     },
     "output_type": "display_data"
    }
   ],
   "source": [
    "from sklearn_extra.cluster import KMedoids\n",
    "import matplotlib.pyplot as plt\n",
    "np.random.seed(42)\n",
    "normalized_new_data = get_new_normalize()\n",
    "pca_transformed_new = get_new_pca().transform(normalized_new_data)\n",
    "\n",
    "# define the range of K\n",
    "k_values = range(2, 16)\n",
    "inertias = []\n",
    "\n",
    "\n",
    "for k in k_values:\n",
    "    kmedoids = None\n",
    "    kmedoids = KMedoids(n_clusters=k, random_state=42)\n",
    "    kmedoids.fit(pca_transformed_new)\n",
    "    inertias.append(kmedoids.inertia_)\n",
    "\n",
    "plt.figure(figsize=(8, 6))\n",
    "plt.plot(k_values, inertias, marker='o')\n",
    "plt.xlabel('Number of Clusters (K)')\n",
    "plt.ylabel('Inertia')\n",
    "plt.title('Plot6: Elbow Method for Optimal K for KMedoids')\n",
    "plt.grid(True)\n",
    "plt.show()"
   ]
  },
  {
   "cell_type": "code",
   "execution_count": 34,
   "metadata": {},
   "outputs": [
    {
     "name": "stdout",
     "output_type": "stream",
     "text": [
      "\u001b[94m\u001b[1mBest K value (KMedoids): 3\n",
      "\u001b[94m\u001b[1mBest Calinski-Harabasz score (KMedoids): 1045.8405297551813\n",
      "\u001b[94m\u001b[1mBest Davies-Bouldin score (KMedoids): 0.727286927815896\n"
     ]
    }
   ],
   "source": [
    "from sklearn_extra.cluster import KMedoids\n",
    "normalized_new_data = get_new_normalize()\n",
    "pca_transformed_new =get_new_pca().transform(normalized_new_data)\n",
    "# Define a range of possible K values\n",
    "k_values = range(2, 11)\n",
    "best_calinski_harabasz = -1\n",
    "best_davies_bouldin = float(\"inf\")\n",
    "best_k = 0\n",
    "# Calculate Calinski-Harabasz and Davies-Bouldin scores for each K value\n",
    "for k in k_values:\n",
    "    kmedoids = KMedoids(n_clusters=k, random_state=42, metric='manhattan')\n",
    "    kmedoids.fit(pca_transformed_new)\n",
    "    labels = kmedoids.labels_\n",
    "    calinski_harabasz = calinski_harabasz_score(pca_transformed_new, labels)\n",
    "    davies_bouldin = davies_bouldin_score(pca_transformed_new, labels)    \n",
    "    # Select the best K value\n",
    "    if calinski_harabasz > best_calinski_harabasz and davies_bouldin < best_davies_bouldin:\n",
    "        best_calinski_harabasz = calinski_harabasz\n",
    "        best_davies_bouldin = davies_bouldin\n",
    "        best_k = k\n",
    "print(\"\\033[94m\"+\"\\033[1m\"+\"Best K value (KMedoids):\", best_k)\n",
    "print(\"\\033[94m\"+\"\\033[1m\"+\"Best Calinski-Harabasz score (KMedoids):\", best_calinski_harabasz)\n",
    "print(\"\\033[94m\"+\"\\033[1m\"+\"Best Davies-Bouldin score (KMedoids):\", best_davies_bouldin)"
   ]
  },
  {
   "cell_type": "code",
   "execution_count": 35,
   "metadata": {},
   "outputs": [],
   "source": [
    "def get_kmedoids(best_k = 3):\n",
    "    result = None\n",
    "    kmedoids = KMedoids(n_clusters=best_k, random_state=42)\n",
    "    result = kmedoids.fit(pca_transformed_new)  \n",
    "    return result  "
   ]
  },
  {
   "cell_type": "code",
   "execution_count": 37,
   "metadata": {},
   "outputs": [
    {
     "data": {
      "image/png": "[encoded data removed]",
      "text/plain": [
       "<Figure size 864x576 with 1 Axes>"
      ]
     },
     "metadata": {
      "needs_background": "light"
     },
     "output_type": "display_data"
    }
   ],
   "source": [
    "from mpl_toolkits.mplot3d import Axes3D  \n",
    "\n",
    "def kmedoids_3d_plot():\n",
    "    kmedoids = get_kmedoids(best_k = 3)\n",
    "    cluster_labels = list(kmedoids.labels_)\n",
    "    X = list(pca_transformed_new[:,0])\n",
    "    Y = list(pca_transformed_new[:,1])\n",
    "    Z = list(pca_transformed_new[:,2])\n",
    "\n",
    "    fig = plt.figure(figsize=(12, 8))  \n",
    "    ax = fig.add_subplot(projection='3d')  \n",
    "    \n",
    "    sc = ax.scatter(X, Y, Z, c=cluster_labels, cmap='viridis', marker='o',s=5)\n",
    "    ax.set_xlabel('avg_d_mbps')\n",
    "    ax.set_ylabel('avg_u_mbps')\n",
    "    ax.set_zlabel('avg_lat_ms')\n",
    "    ax.set_title('Plot7: Kmedoids 3D Plot')\n",
    "    \n",
    "    legend = ax.legend(*sc.legend_elements(), loc=\"lower right\", title=\"Clusters\")\n",
    "    ax.add_artist(legend)\n",
    "    \n",
    "\n",
    "    ax.set_xlim([min(X), max(X)])\n",
    "    ax.set_ylim([min(Y), max(Y)])\n",
    "    ax.set_zlim([min(Z), max(Z)])\n",
    "    \n",
    "    plt.show()\n",
    "\n",
    "    return \n",
    "\n",
    "kmedoids_3d_plot()"
   ]
  },
  {
   "cell_type": "markdown",
   "metadata": {},
   "source": [
    "## STEP 8: Extract the representative data points from KMeans"
   ]
  },
  {
   "cell_type": "code",
   "execution_count": 38,
   "metadata": {},
   "outputs": [
    {
     "name": "stdout",
     "output_type": "stream",
     "text": [
      "Cluster: Cluster 1\n",
      "avg_d_mbps: 21.12\n",
      "avg_u_mbps: 3.28\n",
      "avg_lat_ms: 94.67\n",
      "Town sections in Cluster: 376\n",
      "Cluster: Cluster 2\n",
      "avg_d_mbps: 145.59\n",
      "avg_u_mbps: 14.34\n",
      "avg_lat_ms: 56.80\n",
      "Town sections in Cluster: 179\n",
      "Cluster: Cluster 3\n",
      "avg_d_mbps: 19.21\n",
      "avg_u_mbps: 4.15\n",
      "avg_lat_ms: 631.00\n",
      "Town sections in Cluster: 214\n",
      "Cluster: Cluster 4\n",
      "avg_d_mbps: 68.56\n",
      "avg_u_mbps: 10.61\n",
      "avg_lat_ms: 88.43\n",
      "Town sections in Cluster: 384\n",
      "Cluster: Cluster 5\n",
      "avg_d_mbps: 44.96\n",
      "avg_u_mbps: 44.34\n",
      "avg_lat_ms: 35.75\n",
      "Town sections in Cluster: 9\n"
     ]
    }
   ],
   "source": [
    "from sklearn.metrics import pairwise_distances_argmin_min\n",
    "# Create a KMeans model and fit the data\n",
    "np.random.seed(42)\n",
    "kmeans = get_kmeans(best_k=5)\n",
    "\n",
    "# Get the centroids of each cluster\n",
    "cluster_centers = kmeans.cluster_centers_\n",
    "\n",
    "# Find the indices of the closest data points in each cluster\n",
    "closest_points_indices = pairwise_distances_argmin_min(cluster_centers, pca_transformed_new)\n",
    "\n",
    "# Assign labels or names to the clusters\n",
    "cluster_labels = ['Cluster 1', 'Cluster 2', 'Cluster 3', 'Cluster 4', 'Cluster 5']\n",
    "# Column names needed\n",
    "column_names = ['avg_d_mbps', 'avg_u_mbps', 'avg_lat_ms']\n",
    "\n",
    "# Get the number of data points in each cluster\n",
    "cluster_assignments = kmeans.labels_\n",
    "cluster_sizes = np.bincount(cluster_assignments)\n",
    "\n",
    "# Display the typical data points, labels, and data point counts for each cluster\n",
    "for i, cluster_center in enumerate(cluster_centers):\n",
    "\n",
    "    cluster_name = cluster_labels[i]\n",
    "    closest_data_point_idx = int(closest_points_indices[0][i])  # Ensure it's an integer index\n",
    "\n",
    "    closest_data_point = no_outliers_grouped_df.iloc[closest_data_point_idx]  # Use .iloc to index DataFrame\n",
    "\n",
    "    cluster_size = cluster_sizes[i]  # Get the number of data points in the cluster\n",
    "\n",
    "    print(f\"Cluster: {cluster_name}\")\n",
    "    for col, value in zip(column_names, closest_data_point):\n",
    "        value_formatted = f\"{value:.2f}\"  # Format the value to two decimal places\n",
    "        print(f\"{col}: {value_formatted}\")\n",
    "    print(f\"Town sections in Cluster: {cluster_size}\")"
   ]
  },
  {
   "cell_type": "markdown",
   "metadata": {},
   "source": [
    "## STEP 9: Extract the representative data points from KMedoids"
   ]
  },
  {
   "cell_type": "code",
   "execution_count": 39,
   "metadata": {},
   "outputs": [
    {
     "name": "stdout",
     "output_type": "stream",
     "text": [
      "Cluster: Cluster 1\n",
      "avg_d_mbps: 26.08\n",
      "avg_u_mbps: 4.03\n",
      "avg_lat_ms: 85.96\n",
      "Town sections in Cluster: 507\n",
      "Cluster: Cluster 2\n",
      "avg_d_mbps: 98.82\n",
      "avg_u_mbps: 12.10\n",
      "avg_lat_ms: 57.20\n",
      "Town sections in Cluster: 447\n",
      "Cluster: Cluster 3\n",
      "avg_d_mbps: 17.56\n",
      "avg_u_mbps: 3.90\n",
      "avg_lat_ms: 637.00\n",
      "Town sections in Cluster: 208\n"
     ]
    }
   ],
   "source": [
    "from sklearn.metrics import pairwise_distances_argmin_min\n",
    "\n",
    "# Create a KMeans model and fit the data\n",
    "kmedoids = get_kmedoids(best_k=3)\n",
    "\n",
    "# Get the centroids of each cluster\n",
    "cluster_centers = kmedoids.cluster_centers_\n",
    "\n",
    "# Find the indices of the closest data points in each cluster\n",
    "closest_points_indices = pairwise_distances_argmin_min(cluster_centers, pca_transformed_new)\n",
    "\n",
    "# Assign labels or names to the clusters\n",
    "cluster_labels = ['Cluster 1', 'Cluster 2', 'Cluster 3']\n",
    "# Column names needed\n",
    "column_names = ['avg_d_mbps', 'avg_u_mbps', 'avg_lat_ms']\n",
    "\n",
    "# Get the number of data points in each cluster\n",
    "cluster_assignments = kmedoids.labels_\n",
    "cluster_sizes = np.bincount(cluster_assignments)\n",
    "\n",
    "# Display the typical data points, labels, and data point counts for each cluster\n",
    "for i, cluster_center in enumerate(cluster_centers):\n",
    "\n",
    "    cluster_name = cluster_labels[i]\n",
    "    closest_data_point_idx = int(closest_points_indices[0][i])  # Ensure it's an integer index\n",
    "\n",
    "    closest_data_point = no_outliers_grouped_df.iloc[closest_data_point_idx]  # Use .iloc to index DataFrame\n",
    "\n",
    "    cluster_size = cluster_sizes[i]  # Get the number of data points in the cluster\n",
    "\n",
    "    print(f\"Cluster: {cluster_name}\")\n",
    "    for col, value in zip(column_names, closest_data_point):\n",
    "        value_formatted = f\"{value:.2f}\"  # Format the value to two decimal places\n",
    "        print(f\"{col}: {value_formatted}\")\n",
    "    print(f\"Town sections in Cluster: {cluster_size}\")\n"
   ]
  },
  {
   "cell_type": "markdown",
   "metadata": {},
   "source": [
    "## STEP 10: Select an appropriate number of clusters "
   ]
  },
  {
   "cell_type": "code",
   "execution_count": 40,
   "metadata": {},
   "outputs": [
    {
     "data": {
      "text/html": [
       "<div>\n",
       "<style scoped>\n",
       "    .dataframe tbody tr th:only-of-type {\n",
       "        vertical-align: middle;\n",
       "    }\n",
       "\n",
       "    .dataframe tbody tr th {\n",
       "        vertical-align: top;\n",
       "    }\n",
       "\n",
       "    .dataframe thead th {\n",
       "        text-align: right;\n",
       "    }\n",
       "</style>\n",
       "<table border=\"1\" class=\"dataframe\">\n",
       "  <thead>\n",
       "    <tr style=\"text-align: right;\">\n",
       "      <th></th>\n",
       "      <th>Method</th>\n",
       "      <th>Best Davies-Bouldin Index</th>\n",
       "      <th>Best Calinski-Harabasz Score</th>\n",
       "    </tr>\n",
       "  </thead>\n",
       "  <tbody>\n",
       "    <tr>\n",
       "      <th>0</th>\n",
       "      <td>K-Means</td>\n",
       "      <td>0.731</td>\n",
       "      <td>1138.540</td>\n",
       "    </tr>\n",
       "    <tr>\n",
       "      <th>1</th>\n",
       "      <td>K-Medoids</td>\n",
       "      <td>0.727</td>\n",
       "      <td>1045.841</td>\n",
       "    </tr>\n",
       "  </tbody>\n",
       "</table>\n",
       "</div>"
      ],
      "text/plain": [
       "      Method  Best Davies-Bouldin Index  Best Calinski-Harabasz Score\n",
       "0    K-Means                      0.731                      1138.540\n",
       "1  K-Medoids                      0.727                      1045.841"
      ]
     },
     "metadata": {},
     "output_type": "display_data"
    }
   ],
   "source": [
    "import pandas as pd\n",
    "\n",
    "# Create a dictionary with your results\n",
    "results = {\n",
    "    'Method': ['K-Means', 'K-Medoids'],\n",
    "   \n",
    "    'Best Davies-Bouldin Index': [0.731, 0.727],\n",
    "    'Best Calinski-Harabasz Score': [1138.540, 1045.841]\n",
    "}\n",
    "\n",
    "# Create a Pandas DataFrame\n",
    "results_df = pd.DataFrame(results)\n",
    "\n",
    "# Display the DataFrame\n",
    "display(results_df)\n"
   ]
  },
  {
   "cell_type": "markdown",
   "metadata": {},
   "source": [
    "**FINDING 2:**\n",
    "\n",
    "- From KMeans:\n",
    "\n",
    "Best K value(K-means): 5\n",
    "\n",
    "Best Calinski-Harabasz score(K-means): 1138.5396573608805\n",
    "\n",
    "Best Davies-Bouldin score(K-means): 0.7306407004457093\n",
    " \n",
    "\n",
    "- From KMedoids\n",
    "\n",
    "Best K value (KMedoids): 3\n",
    "\n",
    "Best Calinski-Harabasz score (KMedoids): 1045.8405297551813\n",
    "\n",
    "Best Davies-Bouldin score (KMedoids): 0.727286927815896\n",
    "\n",
    "- The scores from KMeans are similar with those from KMedoids, but the difference is not very significant.\n",
    "- Considering clustering metrics, it's important to take into account the balance of clusters.\n",
    "- When you look into KMeans clustering, the Cluster: the number of Cluster 5 town sections is only 9.\n",
    "- In this case, selecting KMedoids clustering 3 instead of KMeans clustering 5 is to ensure relatively balanced clustering and to reduce the impact of imbalanced data on subsequent supervised learning models. \n",
    "- Using KMedoids clustering 3 is a reasonable decision that can enhance the stability and performance of the model.\n"
   ]
  },
  {
   "cell_type": "markdown",
   "metadata": {},
   "source": [
    "## STEP 11: Assign the labels"
   ]
  },
  {
   "cell_type": "code",
   "execution_count": 43,
   "metadata": {},
   "outputs": [
    {
     "name": "stdout",
     "output_type": "stream",
     "text": [
      "Mean avg_d_mbps: 55.81\n",
      "Mean avg_u_mbps: 7.55\n",
      "Mean avg_lat_ms: 178.63\n"
     ]
    }
   ],
   "source": [
    "# Calculate the mean of columns 'avg_d_mbps', 'avg_u_mbps', and 'avg_lat_ms' in 'no_outliers_df'\n",
    "avg_d_mbps_mean = round(no_outliers_grouped_df['avg_d_mbps'].mean(), 2)\n",
    "avg_u_mbps_mean = round(no_outliers_grouped_df['avg_u_mbps'].mean(), 2)\n",
    "avg_lat_ms_mean = round(no_outliers_grouped_df['avg_lat_ms'].mean(), 2)\n",
    "\n",
    "# Print the results\n",
    "print(f'Mean avg_d_mbps: {avg_d_mbps_mean}')\n",
    "print(f'Mean avg_u_mbps: {avg_u_mbps_mean}')\n",
    "print(f'Mean avg_lat_ms: {avg_lat_ms_mean}')\n"
   ]
  },
  {
   "cell_type": "markdown",
   "metadata": {},
   "source": [
    "**FINDING 3:**\n",
    "\n",
    "- **Cluster 1: Worse Network -- worse than mean value**\n",
    "\n",
    " avg_d_mbps: 26.08 （Mean avg_d_mbps: 55.81）\n",
    "\n",
    " avg_u_mbps: 4.03 （Mean avg_u_mbps: 7.55）\n",
    "\n",
    " avg_lat_ms: 85.96（Mean avg_lat_ms: 178.63）\n",
    "\n",
    " Town sections in Cluster: 507\n",
    " \n",
    "\n",
    "- **Cluster 2: Excellent Network-- much better than mean value**\n",
    "\n",
    " avg_d_mbps: 98.82（Mean avg_d_mbps: 55.81）\n",
    " \n",
    " avg_u_mbps: 12.10（Mean avg_u_mbps: 7.55）\n",
    "    \n",
    " avg_lat_ms: 57.20（Mean avg_lat_ms: 178.63）\n",
    "    \n",
    " Town sections in Cluster: 447\n",
    "\n",
    "\n",
    "- **Cluster 3: Poor Network --much worse than mean value**\n",
    "\n",
    " avg_d_mbps: 17.56 （Mean avg_d_mbps: 55.81）\n",
    "\n",
    " avg_u_mbps: 3.90 （Mean avg_u_mbps: 7.55）\n",
    "\n",
    " avg_lat_ms: 637.00 （Mean avg_lat_ms: 178.63）\n",
    "    \n",
    " Town sections in Cluster: 208\n",
    "\n"
   ]
  },
  {
   "cell_type": "markdown",
   "metadata": {},
   "source": [
    "## STEP 12: Prepare the dataset with cluster labels for Supervised Learning"
   ]
  },
  {
   "cell_type": "code",
   "execution_count": 44,
   "metadata": {},
   "outputs": [
    {
     "name": "stdout",
     "output_type": "stream",
     "text": [
      "     TWNRNGSEC  avg_d_mbps  avg_u_mbps  avg_lat_ms  cluster_labels\n",
      "0     40N02W18   19.708444    1.557111   60.222222               0\n",
      "1     40N02W19   31.219852    4.015037   60.555556               0\n",
      "2       40N03W   49.258286   12.611013   44.359580               1\n",
      "3     40N03W02   51.946333    8.033333   68.333333               0\n",
      "4     40N03W06   88.839830   10.249955   26.011364               1\n",
      "...        ...         ...         ...         ...             ...\n",
      "1157  50N09W25   36.858000    2.228000  643.000000               2\n",
      "1158  50N09W26   36.858000    2.228000  643.000000               2\n",
      "1159  50N12W32    7.042000    1.058000   22.000000               0\n",
      "1160  51N05W31  204.484286   19.825429   54.142857               1\n",
      "1161  51N06W36  140.191000   13.924000   57.000000               1\n",
      "\n",
      "[1162 rows x 5 columns]\n",
      "\u001b[94m\u001b[1mGroup subset Labels Value Counter\n",
      " 0    507\n",
      "1    447\n",
      "2    208\n",
      "Name: cluster_labels, dtype: int64\n"
     ]
    }
   ],
   "source": [
    "cluster_labels = kmedoids.labels_\n",
    "no_outliers_grouped_df\n",
    "no_outliers_grouped_df_new = no_outliers_grouped_df.copy()\n",
    "no_outliers_grouped_df_new['cluster_labels']=cluster_labels\n",
    "no_outliers_grouped_df_new = no_outliers_grouped_df_new.reset_index()\n",
    "\n",
    "print(no_outliers_grouped_df_new)\n",
    "\n",
    "print(\"\\033[94m\"+\"\\033[1m\"+\"Group subset Labels Value Counter\\n\",no_outliers_grouped_df_new['cluster_labels'].value_counts())\n",
    "\n",
    "# To map the label data to each individual town section and prepare it for supervised learning"
   ]
  },
  {
   "cell_type": "code",
   "execution_count": 45,
   "metadata": {},
   "outputs": [
    {
     "name": "stdout",
     "output_type": "stream",
     "text": [
      "\u001b[94m\u001b[1mNew dataset Labels Value Counter\n",
      " 1    9313\n",
      "0    6320\n",
      "2     747\n",
      "Name: cluster_labels, dtype: int64\n"
     ]
    }
   ],
   "source": [
    "# To assign the labels to new dataset based on Town Section ID\n",
    "selected_df_new['cluster_labels'] = selected_df_new['TWNRNGSEC'].map(no_outliers_grouped_df_new.set_index('TWNRNGSEC')['cluster_labels']).values\n",
    "print(\"\\033[94m\"+\"\\033[1m\"+\"New dataset Labels Value Counter\\n\",selected_df_new['cluster_labels'].value_counts())"
   ]
  },
  {
   "cell_type": "code",
   "execution_count": 46,
   "metadata": {},
   "outputs": [
    {
     "data": {
      "text/html": [
       "<div>\n",
       "<style scoped>\n",
       "    .dataframe tbody tr th:only-of-type {\n",
       "        vertical-align: middle;\n",
       "    }\n",
       "\n",
       "    .dataframe tbody tr th {\n",
       "        vertical-align: top;\n",
       "    }\n",
       "\n",
       "    .dataframe thead th {\n",
       "        text-align: right;\n",
       "    }\n",
       "</style>\n",
       "<table border=\"1\" class=\"dataframe\">\n",
       "  <thead>\n",
       "    <tr style=\"text-align: right;\">\n",
       "      <th></th>\n",
       "      <th>TWNRNGSEC</th>\n",
       "      <th>avg_d_mbps</th>\n",
       "      <th>avg_u_mbps</th>\n",
       "      <th>avg_lat_ms</th>\n",
       "      <th>geometry</th>\n",
       "      <th>cluster_labels</th>\n",
       "    </tr>\n",
       "  </thead>\n",
       "  <tbody>\n",
       "    <tr>\n",
       "      <th>31</th>\n",
       "      <td>50N06W27</td>\n",
       "      <td>3.713</td>\n",
       "      <td>12.394</td>\n",
       "      <td>62</td>\n",
       "      <td>POLYGON ((-85.05019 46.70901, -85.02911 46.709...</td>\n",
       "      <td>0</td>\n",
       "    </tr>\n",
       "    <tr>\n",
       "      <th>33</th>\n",
       "      <td>50N12W32</td>\n",
       "      <td>7.042</td>\n",
       "      <td>1.058</td>\n",
       "      <td>22</td>\n",
       "      <td>POLYGON ((-85.82366 46.67910, -85.84466 46.679...</td>\n",
       "      <td>0</td>\n",
       "    </tr>\n",
       "    <tr>\n",
       "      <th>62</th>\n",
       "      <td>49N07W03</td>\n",
       "      <td>0.055</td>\n",
       "      <td>0.023</td>\n",
       "      <td>155</td>\n",
       "      <td>POLYGON ((-85.17688 46.68020, -85.15576 46.680...</td>\n",
       "      <td>0</td>\n",
       "    </tr>\n",
       "    <tr>\n",
       "      <th>84</th>\n",
       "      <td>49N07W29</td>\n",
       "      <td>127.623</td>\n",
       "      <td>12.326</td>\n",
       "      <td>60</td>\n",
       "      <td>POLYGON ((-85.21922 46.62237, -85.19839 46.622...</td>\n",
       "      <td>0</td>\n",
       "    </tr>\n",
       "    <tr>\n",
       "      <th>86</th>\n",
       "      <td>49N07W29</td>\n",
       "      <td>7.089</td>\n",
       "      <td>0.762</td>\n",
       "      <td>764</td>\n",
       "      <td>POLYGON ((-85.21922 46.62237, -85.19839 46.622...</td>\n",
       "      <td>0</td>\n",
       "    </tr>\n",
       "    <tr>\n",
       "      <th>...</th>\n",
       "      <td>...</td>\n",
       "      <td>...</td>\n",
       "      <td>...</td>\n",
       "      <td>...</td>\n",
       "      <td>...</td>\n",
       "      <td>...</td>\n",
       "    </tr>\n",
       "    <tr>\n",
       "      <th>17895</th>\n",
       "      <td>40N03W14</td>\n",
       "      <td>74.882</td>\n",
       "      <td>7.114</td>\n",
       "      <td>39</td>\n",
       "      <td>POLYGON ((-84.63003 45.85233, -84.63346 45.852...</td>\n",
       "      <td>0</td>\n",
       "    </tr>\n",
       "    <tr>\n",
       "      <th>17896</th>\n",
       "      <td>40N03W23</td>\n",
       "      <td>74.882</td>\n",
       "      <td>7.114</td>\n",
       "      <td>39</td>\n",
       "      <td>POLYGON ((-84.63003 45.85233, -84.63004 45.850...</td>\n",
       "      <td>0</td>\n",
       "    </tr>\n",
       "    <tr>\n",
       "      <th>17899</th>\n",
       "      <td>40N03W14</td>\n",
       "      <td>20.399</td>\n",
       "      <td>1.985</td>\n",
       "      <td>38</td>\n",
       "      <td>POLYGON ((-84.63003 45.85233, -84.63346 45.852...</td>\n",
       "      <td>0</td>\n",
       "    </tr>\n",
       "    <tr>\n",
       "      <th>17900</th>\n",
       "      <td>40N03W23</td>\n",
       "      <td>20.399</td>\n",
       "      <td>1.985</td>\n",
       "      <td>38</td>\n",
       "      <td>POLYGON ((-84.63003 45.85233, -84.63004 45.850...</td>\n",
       "      <td>0</td>\n",
       "    </tr>\n",
       "    <tr>\n",
       "      <th>18069</th>\n",
       "      <td>40N03W23</td>\n",
       "      <td>22.093</td>\n",
       "      <td>6.394</td>\n",
       "      <td>28</td>\n",
       "      <td>POLYGON ((-84.63003 45.85233, -84.63004 45.850...</td>\n",
       "      <td>0</td>\n",
       "    </tr>\n",
       "  </tbody>\n",
       "</table>\n",
       "<p>6320 rows × 6 columns</p>\n",
       "</div>"
      ],
      "text/plain": [
       "      TWNRNGSEC  avg_d_mbps  avg_u_mbps  avg_lat_ms  \\\n",
       "31     50N06W27       3.713      12.394          62   \n",
       "33     50N12W32       7.042       1.058          22   \n",
       "62     49N07W03       0.055       0.023         155   \n",
       "84     49N07W29     127.623      12.326          60   \n",
       "86     49N07W29       7.089       0.762         764   \n",
       "...         ...         ...         ...         ...   \n",
       "17895  40N03W14      74.882       7.114          39   \n",
       "17896  40N03W23      74.882       7.114          39   \n",
       "17899  40N03W14      20.399       1.985          38   \n",
       "17900  40N03W23      20.399       1.985          38   \n",
       "18069  40N03W23      22.093       6.394          28   \n",
       "\n",
       "                                                geometry  cluster_labels  \n",
       "31     POLYGON ((-85.05019 46.70901, -85.02911 46.709...               0  \n",
       "33     POLYGON ((-85.82366 46.67910, -85.84466 46.679...               0  \n",
       "62     POLYGON ((-85.17688 46.68020, -85.15576 46.680...               0  \n",
       "84     POLYGON ((-85.21922 46.62237, -85.19839 46.622...               0  \n",
       "86     POLYGON ((-85.21922 46.62237, -85.19839 46.622...               0  \n",
       "...                                                  ...             ...  \n",
       "17895  POLYGON ((-84.63003 45.85233, -84.63346 45.852...               0  \n",
       "17896  POLYGON ((-84.63003 45.85233, -84.63004 45.850...               0  \n",
       "17899  POLYGON ((-84.63003 45.85233, -84.63346 45.852...               0  \n",
       "17900  POLYGON ((-84.63003 45.85233, -84.63004 45.850...               0  \n",
       "18069  POLYGON ((-84.63003 45.85233, -84.63004 45.850...               0  \n",
       "\n",
       "[6320 rows x 6 columns]"
      ]
     },
     "execution_count": 46,
     "metadata": {},
     "output_type": "execute_result"
    }
   ],
   "source": [
    "gdf_filtered=selected_df_new[selected_df_new['cluster_labels'] == 0]\n",
    "gdf_filtered"
   ]
  },
  {
   "cell_type": "code",
   "execution_count": 47,
   "metadata": {},
   "outputs": [
    {
     "data": {
      "application/vnd.jupyter.widget-view+json": {
       "model_id": "3ac0d462fbd44b8db9420be395882470",
       "version_major": 2,
       "version_minor": 0
      },
      "text/plain": [
       "interactive(children=(Dropdown(description='Select Label:', index=2, options=('All Clusters', 'Cluster 1: Wors…"
      ]
     },
     "metadata": {},
     "output_type": "display_data"
    }
   ],
   "source": [
    "import ipywidgets as widgets\n",
    "# Dropdown widget for selecting labels\n",
    "label_selectors = None\n",
    "label_selectors = widgets.Dropdown(\n",
    "    options=['All Clusters', 'Cluster 1: Worse Network', 'Cluster 2: Excellent Network', 'Cluster 3: Poor Network'],\n",
    "    value='Cluster 2: Excellent Network', description='Select Label:'\n",
    ")\n",
    "\n",
    "# Create a dictionary to map labels to colors\n",
    "label_colors = None\n",
    "label_colors = {\n",
    "    'All Clusters': 'viridis',  # Use a color map\n",
    "    'Cluster 1: Worse Network': 'purple',\n",
    "    'Cluster 2: Excellent Network': \"green\",\n",
    "    'Cluster 3: Poor Network': 'yellow'\n",
    "}\n",
    "\n",
    "# Function for plotting clusters on a map\n",
    "def plot_clusters_on_map(labels):\n",
    "    gdf_filtered = None\n",
    "    plt.close()\n",
    "#     plt.rcParams.update({'axes.facecolor': 'white'})\n",
    "\n",
    "    if labels == 'All Clusters':\n",
    "        gdf_filtered = selected_df_new\n",
    "        title = 'All Clusters'\n",
    "        cmap = label_colors[labels]\n",
    "        \n",
    "    elif labels == 'Cluster 1: Worse Network':\n",
    "        gdf_filtered = selected_df_new[selected_df_new['cluster_labels'] == 0]\n",
    "        title = \"Cluster 1: Worse Network\"\n",
    "        cmap = label_colors[labels]\n",
    "        \n",
    "    elif labels == 'Cluster 2: Excellent Network':\n",
    "        gdf_filtered = selected_df_new[selected_df_new['cluster_labels'] == 1]\n",
    "        title = \"Cluster 2: Excellent Network\"\n",
    "        cmap = label_colors[labels]\n",
    "        \n",
    "    elif labels == 'Cluster 3: Poor Network':\n",
    "        gdf_filtered = selected_df_new[selected_df_new['cluster_labels'] == 2]\n",
    "        title = \"Cluster 3: Poor Network\"\n",
    "        cmap = label_colors[labels]\n",
    "\n",
    "    gdf_filtered = gpd.GeoDataFrame(gdf_filtered, geometry='geometry')\n",
    "\n",
    "    if labels == 'All Clusters':\n",
    "        gdf_filtered.plot(column='cluster_labels',  figsize=(15, 8))\n",
    "    else:\n",
    "        gdf_filtered.plot(color=cmap, figsize=(15, 8))\n",
    "\n",
    "    plt.grid(True)\n",
    "    plt.title(title, fontsize=16, fontweight='bold')\n",
    "    plt.xlabel('Longitude')\n",
    "    plt.ylabel('Latitude')\n",
    "    plt.xlim(-86, -83)  \n",
    "    plt.ylim(45.8, 47)    \n",
    "#     plt.show()\n",
    "\n",
    "# Display the label selection dropdown and the map\n",
    "widgets.interactive(plot_clusters_on_map, labels=label_selectors)\n",
    "\n"
   ]
  },
  {
   "cell_type": "markdown",
   "metadata": {},
   "source": [
    "## <font color=\"blue\">CONCLUSION:</font> ##\n",
    "**- 1. Original Town Section ID number is 1174**\n",
    "**- 2. The components in PCA is 3**\n",
    "**- 3. PCA association:**\n",
    "\n",
    "PC1: 0.64 * avg_d_mbps + 0.61 * avg_u_mbps - 0.47 * avg_lat_ms\n",
    "\n",
    "PC2: 0.26 * avg_d_mbps + 0.41 * avg_u_mbps + 0.88 * avg_lat_ms\n",
    "\n",
    "PC3: -0.73 * avg_d_mbps + 0.68 * avg_u_mbps - 0.10 * avg_lat_ms\n",
    "\n",
    "**- 4. LOF to detect outliers datapoints number is 12**\n",
    "\n",
    "**- 5. Remove outliers to get the new dataset.**\n",
    "\n",
    "**- 6. To compare the best K value and Scores of Cluster Model KMeans and KMedoids.**\n",
    "\n",
    "**- 7. Select KMedoids and cluster number is 3.**\n",
    "\n",
    "**- 8. Manually assign names to labels**\n",
    "\n",
    "Cluster 1: Worse Network -- worse than mean value avg_d_mbps: 26.08 （Mean avg_d_mbps: 55.81）avg_u_mbps: 4.03 （Mean avg_u_mbps: 7.55）avg_lat_ms: 85.96（Mean avg_lat_ms: 178.63）Town sections in Cluster: 507\n",
    "\n",
    "Cluster 2: Excellent Network-- much better than mean value avg_d_mbps: 98.82（Mean avg_d_mbps: 55.81）avg_u_mbps: 12.10（Mean avg_u_mbps: 7.55）avg_lat_ms: 57.20（Mean avg_lat_ms: 178.63）Town sections in Cluster: 447\n",
    "\n",
    "Cluster 3: Poor Network --much worse than mean value avg_d_mbps: 17.56 （Mean avg_d_mbps: 55.81）avg_u_mbps: 3.90 （Mean avg_u_mbps: 7.55）avg_lat_ms: 637.00 （Mean avg_lat_ms: 178.63）Town sections in Cluster: 208\n",
    "\n",
    "**- 9. To map the data points with labels on the 3 Counties Map**"
   ]
  },
  {
   "cell_type": "markdown",
   "metadata": {},
   "source": [
    "## Appendix: How sensitive are your results to choice of (hyper-)parameters ##"
   ]
  },
  {
   "cell_type": "code",
   "execution_count": 62,
   "metadata": {},
   "outputs": [
    {
     "name": "stdout",
     "output_type": "stream",
     "text": [
      "\u001b[94m\u001b[1mBest K value (KMedoids 1): 3\n",
      "\u001b[94m\u001b[1mBest Calinski-Harabasz score (KMedoids 1): 1045.841\n",
      "\u001b[94m\u001b[1mBest Davies-Bouldin score (KMedoids 1): 0.727\n"
     ]
    }
   ],
   "source": [
    "# best model original setting metric = \"'manhattan\",method='pam'(fault)\n",
    "from sklearn_extra.cluster import KMedoids\n",
    "normalized_new_data = get_new_normalize()\n",
    "pca_transformed_new =get_new_pca().transform(normalized_new_data)\n",
    "# Define a range of possible K values\n",
    "k_values = range(2, 11)\n",
    "best_calinski_harabasz = -1\n",
    "best_davies_bouldin = float(\"inf\")\n",
    "best_k = 0\n",
    "# Calculate Calinski-Harabasz and Davies-Bouldin scores for each K value\n",
    "for k in k_values:\n",
    "    kmedoids = KMedoids(n_clusters=k, random_state=42, metric='manhattan')\n",
    "    kmedoids.fit(pca_transformed_new)\n",
    "    labels = kmedoids.labels_\n",
    "    calinski_harabasz = calinski_harabasz_score(pca_transformed_new, labels)\n",
    "    davies_bouldin = davies_bouldin_score(pca_transformed_new, labels)    \n",
    "    # Select the best K value\n",
    "    if calinski_harabasz > best_calinski_harabasz and davies_bouldin < best_davies_bouldin:\n",
    "        best_calinski_harabasz = calinski_harabasz\n",
    "        best_davies_bouldin = davies_bouldin\n",
    "        best_k = k\n",
    "print(\"\\033[94m\"+\"\\033[1m\"+\"Best K value (KMedoids 1):\", best_k)\n",
    "print(\"\\033[94m\"+\"\\033[1m\"+\"Best Calinski-Harabasz score (KMedoids 1):\", \"{:.3f}\".format(best_calinski_harabasz))\n",
    "print(\"\\033[94m\"+\"\\033[1m\"+\"Best Davies-Bouldin score (KMedoids 1):\", \"{:.3f}\".format(best_davies_bouldin))"
   ]
  },
  {
   "cell_type": "code",
   "execution_count": 63,
   "metadata": {},
   "outputs": [
    {
     "name": "stdout",
     "output_type": "stream",
     "text": [
      "\u001b[94m\u001b[1mBest K value (KMedoids 2): 3\n",
      "\u001b[94m\u001b[1mBest Calinski-Harabasz score (KMedoids 2): 1060.591\n",
      "\u001b[94m\u001b[1mBest Davies-Bouldin score (KMedoids 2): 0.721\n"
     ]
    }
   ],
   "source": [
    "# To understand the impact of setting metric = “euclidean”, let's take a look at what changes occur in the clustering.\n",
    "from sklearn_extra.cluster import KMedoids\n",
    "normalized_new_data = get_new_normalize()\n",
    "pca_transformed_new =get_new_pca().transform(normalized_new_data)\n",
    "# Define a range of possible K values\n",
    "k_values = range(2, 11)\n",
    "best_calinski_harabasz = -1\n",
    "best_davies_bouldin = float(\"inf\")\n",
    "best_k = 0\n",
    "# Calculate Calinski-Harabasz and Davies-Bouldin scores for each K value\n",
    "for k in k_values:\n",
    "    kmedoids = KMedoids(n_clusters=k, random_state=42, metric='euclidean')\n",
    "    kmedoids.fit(pca_transformed_new)\n",
    "    labels = kmedoids.labels_\n",
    "    calinski_harabasz = calinski_harabasz_score(pca_transformed_new, labels)\n",
    "    davies_bouldin = davies_bouldin_score(pca_transformed_new, labels)    \n",
    "    # Select the best K value\n",
    "    if calinski_harabasz > best_calinski_harabasz and davies_bouldin < best_davies_bouldin:\n",
    "        best_calinski_harabasz = calinski_harabasz\n",
    "        best_davies_bouldin = davies_bouldin\n",
    "        best_k = k\n",
    "print(\"\\033[94m\"+\"\\033[1m\"+\"Best K value (KMedoids 2):\", best_k)\n",
    "print(\"\\033[94m\"+\"\\033[1m\"+\"Best Calinski-Harabasz score (KMedoids 2):\", \"{:.3f}\".format(best_calinski_harabasz))\n",
    "print(\"\\033[94m\"+\"\\033[1m\"+\"Best Davies-Bouldin score (KMedoids 2):\", \"{:.3f}\".format(best_davies_bouldin))"
   ]
  },
  {
   "cell_type": "code",
   "execution_count": 64,
   "metadata": {},
   "outputs": [
    {
     "name": "stdout",
     "output_type": "stream",
     "text": [
      "\u001b[94m\u001b[1mBest K value (KMedoids 3): 3\n",
      "\u001b[94m\u001b[1mBest Calinski-Harabasz score (KMedoids 3): 1045.841\n",
      "\u001b[94m\u001b[1mBest Davies-Bouldin score (KMedoids 3): 0.727\n"
     ]
    }
   ],
   "source": [
    "# To understand the impact of setting method = “euclidean”, let's take a look at what changes occur in the clustering.\n",
    "from sklearn_extra.cluster import KMedoids\n",
    "normalized_new_data = get_new_normalize()\n",
    "pca_transformed_new =get_new_pca().transform(normalized_new_data)\n",
    "# Define a range of possible K values\n",
    "k_values = range(2, 11)\n",
    "best_calinski_harabasz = -1\n",
    "best_davies_bouldin = float(\"inf\")\n",
    "best_k = 0\n",
    "# Calculate Calinski-Harabasz and Davies-Bouldin scores for each K value\n",
    "for k in k_values:\n",
    "    kmedoids = KMedoids(n_clusters=k, random_state=42, metric='manhattan',method='alternate')\n",
    "    kmedoids.fit(pca_transformed_new)\n",
    "    labels = kmedoids.labels_\n",
    "    calinski_harabasz = calinski_harabasz_score(pca_transformed_new, labels)\n",
    "    davies_bouldin = davies_bouldin_score(pca_transformed_new, labels)    \n",
    "    # Select the best K value\n",
    "    if calinski_harabasz > best_calinski_harabasz and davies_bouldin < best_davies_bouldin:\n",
    "        best_calinski_harabasz = calinski_harabasz\n",
    "        best_davies_bouldin = davies_bouldin\n",
    "        best_k = k\n",
    "print(\"\\033[94m\"+\"\\033[1m\"+\"Best K value (KMedoids 3):\", best_k)\n",
    "print(\"\\033[94m\"+\"\\033[1m\"+\"Best Calinski-Harabasz score (KMedoids 3):\", \"{:.3f}\".format(best_calinski_harabasz))\n",
    "print(\"\\033[94m\"+\"\\033[1m\"+\"Best Davies-Bouldin score (KMedoids 3):\", \"{:.3f}\".format(best_davies_bouldin))"
   ]
  },
  {
   "cell_type": "code",
   "execution_count": 66,
   "metadata": {},
   "outputs": [
    {
     "data": {
      "text/html": [
       "<div>\n",
       "<style scoped>\n",
       "    .dataframe tbody tr th:only-of-type {\n",
       "        vertical-align: middle;\n",
       "    }\n",
       "\n",
       "    .dataframe tbody tr th {\n",
       "        vertical-align: top;\n",
       "    }\n",
       "\n",
       "    .dataframe thead th {\n",
       "        text-align: right;\n",
       "    }\n",
       "</style>\n",
       "<table border=\"1\" class=\"dataframe\">\n",
       "  <thead>\n",
       "    <tr style=\"text-align: right;\">\n",
       "      <th></th>\n",
       "      <th>KMedoids 1</th>\n",
       "      <th>KMedoids 2</th>\n",
       "      <th>KMedoids 3</th>\n",
       "    </tr>\n",
       "  </thead>\n",
       "  <tbody>\n",
       "    <tr>\n",
       "      <th>Best K value</th>\n",
       "      <td>3.000</td>\n",
       "      <td>3.000</td>\n",
       "      <td>3.000</td>\n",
       "    </tr>\n",
       "    <tr>\n",
       "      <th>Best Calinski-Harabasz score</th>\n",
       "      <td>1045.841</td>\n",
       "      <td>1060.591</td>\n",
       "      <td>1045.841</td>\n",
       "    </tr>\n",
       "    <tr>\n",
       "      <th>Best Davies-Bouldin score</th>\n",
       "      <td>0.727</td>\n",
       "      <td>0.721</td>\n",
       "      <td>0.727</td>\n",
       "    </tr>\n",
       "  </tbody>\n",
       "</table>\n",
       "</div>"
      ],
      "text/plain": [
       "                              KMedoids 1  KMedoids 2  KMedoids 3\n",
       "Best K value                       3.000       3.000       3.000\n",
       "Best Calinski-Harabasz score    1045.841    1060.591    1045.841\n",
       "Best Davies-Bouldin score          0.727       0.721       0.727"
      ]
     },
     "metadata": {},
     "output_type": "display_data"
    }
   ],
   "source": [
    "import pandas as pd\n",
    "\n",
    "data = {\n",
    "    \"KMedoids 1\": [3, 1045.841, 0.727],\n",
    "    \"KMedoids 2\": [3, 1060.591, 0.721],\n",
    "    \"KMedoids 3\": [3, 1045.841, 0.727]\n",
    "}\n",
    "\n",
    "df2 = pd.DataFrame(data, index=[\"Best K value\", \"Best Calinski-Harabasz score\", \"Best Davies-Bouldin score\"])\n",
    "\n",
    "display(df2)"
   ]
  },
  {
   "cell_type": "markdown",
   "metadata": {},
   "source": [
    "## <font color=\"blue\">CONCLUSION 2:</font> ##\n",
    "Different parameter settings (method and metric)in K-Medoids result in similar Calinski-Harabasz and Davies-Bouldin scores, and there is no in values of K(K=3), it can be concluded that this model exhibits relative stability on this specific dataset.\n"
   ]
  },
  {
   "cell_type": "code",
   "execution_count": null,
   "metadata": {},
   "outputs": [],
   "source": []
  }
 ],
 "metadata": {
  "kernelspec": {
   "display_name": "Python 3",
   "language": "python",
   "name": "python3"
  },
  "language_info": {
   "codemirror_mode": {
    "name": "ipython",
    "version": 3
   },
   "file_extension": ".py",
   "mimetype": "text/x-python",
   "name": "python",
   "nbconvert_exporter": "python",
   "pygments_lexer": "ipython3",
   "version": "3.7.10"
  },
  "widgets": {
   "application/vnd.jupyter.widget-state+json": {
    "state": {},
    "version_major": 2,
    "version_minor": 0
   }
  }
 },
 "nbformat": 4,
 "nbformat_minor": 4
}
