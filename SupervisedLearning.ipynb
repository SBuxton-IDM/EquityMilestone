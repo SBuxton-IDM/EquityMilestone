{
 "cells": [
  {
   "cell_type": "markdown",
   "id": "aa6e7d1e-76cb-4bd9-b0ac-b354f8f0f50c",
   "metadata": {},
   "source": [
    "# Supervised Learning Section"
   ]
  },
  {
   "cell_type": "markdown",
   "id": "3ffd03d9-68fd-4fa9-b7cb-a1b2a5aaa67e",
   "metadata": {},
   "source": [
    "1. [Introduction](#introduction)\n",
    "2. [Data Setup](#data-setup)\n",
    "3. [Principal Component Analysis (PCA) Review](#principal-component-analysis-pca-review)\n",
    "    - [Significant Features](#significant-features-identification)\n",
    "4. [Supervised Learning Model Implementation](#supervised-learning-model-implementation)\n",
    "    - [Data Splitting](#data-splitting)\n",
    "    - [Lasso Regression](#lasso-regression)\n",
    "        - [Model Training](#model-training)\n",
    "        - [Model Evaluation](#model-evaluation)\n",
    "    - [Decision Tree](#decision-tree)\n",
    "        - [Model Training](#model-training-1)\n",
    "        - [Model Evaluation](#model-evaluation-1)\n",
    "5. [Comparison of Model Results](#comparison-of-model-results)\n",
    "    - [R squared analysis](#r-squared-analysis)\n",
    "    - [MSE analysis](#mse-analysis)\n",
    "6. [Policy Recommendation](#policy-recommendation-development)\n",
    "    - [Interpretation of Findings](#interpretation-of-findings)\n",
    "    - [Our Policy Recommendations](#formulating-policy-decisions)\n",
    "7. [Conclusion](#conclusion)\n"
   ]
  },
  {
   "cell_type": "markdown",
   "id": "95e0d99b-fb21-4029-854c-cc0c3ca33021",
   "metadata": {},
   "source": [
    "## Introduction\n",
    "Now that we have performed PCA and clustering to determine key features in the dataset, we would like to support these findings with supervised learning. Our goal in this section is to train easily interpretable supervised learning models to predict digital equity statistics in areas of Michigan. We aim to provide insight into which factors are the most significant in determining digital equity. The relative importance of each feature can be gleaned by the weight given to them during the training of these supervised learning models. With these key features in mind, we will recommend policy decisions that could use this insight to better allocate public funds. Since we are using both categorical and quantitative variables to predict our quantitative equity metric, we plan to compare the efficacy of a lasso regression approach."
   ]
  },
  {
   "cell_type": "markdown",
   "id": "8ba544d5-4902-4018-b7d2-df2df6d580db",
   "metadata": {},
   "source": [
    "## Data setup\n",
    "Access the upload + download speed results etc. from /assets, save as df"
   ]
  },
  {
   "cell_type": "code",
   "execution_count": null,
   "id": "64176343-db75-4d1c-b5fc-d7c7bfa521c2",
   "metadata": {},
   "outputs": [],
   "source": [
    "import sklearn\n",
    "import pandas"
   ]
  },
  {
   "cell_type": "markdown",
   "id": "b5d7c9a0-46bf-4840-9b93-486b3fa1b639",
   "metadata": {},
   "source": [
    "## Principal Component Analysis (PCA) Review\n",
    "Write out which groups our PCA highlighted, and which features emerged as the most significant. We will see if our supervised learning yields the same results"
   ]
  },
  {
   "cell_type": "markdown",
   "id": "68fd6ad6-29d2-4215-9fdc-df6f1c39e0f8",
   "metadata": {},
   "source": [
    "### Significant features\n",
    "bullet list of key features"
   ]
  },
  {
   "cell_type": "markdown",
   "id": "5373e91a-b159-4bac-b379-1ca541715bd0",
   "metadata": {},
   "source": [
    "## Supervised Learning Model Implementation\n",
    "### Data splitting"
   ]
  },
  {
   "cell_type": "code",
   "execution_count": null,
   "id": "d70e3fe5-b287-4bde-b8c5-eb00bf33e0fe",
   "metadata": {},
   "outputs": [],
   "source": [
    "from sklearn.model_selection import train_test_split\n",
    "X_train, X_test, y_train, y_test = train_test_split(X, y, test_size=0.2, random_state=42)"
   ]
  },
  {
   "cell_type": "markdown",
   "id": "b7c9baae-1a2c-4688-aeb5-149d51c8230a",
   "metadata": {},
   "source": [
    "## Lasso Regression"
   ]
  },
  {
   "cell_type": "markdown",
   "id": "bcc7845d-acd2-4ee4-8748-0679ead328ed",
   "metadata": {},
   "source": [
    "### Lasso training "
   ]
  },
  {
   "cell_type": "code",
   "execution_count": null,
   "id": "fc61bba3-ca83-4364-a6c7-8db62c742d16",
   "metadata": {},
   "outputs": [],
   "source": [
    "from sklearn import linear_model\n",
    "# Lasso regression model\n",
    "lasso = linear_model.Lasso(alpha=0.1)\n",
    "# Fitting model to data\n",
    "lasso.fit(X, y)\n",
    "y_pred = lasso.predict(X)"
   ]
  },
  {
   "cell_type": "markdown",
   "id": "741b4c41-23cd-49e8-83a5-17db98c02cc1",
   "metadata": {},
   "source": [
    "### Lasso evaluation"
   ]
  },
  {
   "cell_type": "code",
   "execution_count": null,
   "id": "d4cd72b9-d513-443e-bddb-9d8647552bc3",
   "metadata": {},
   "outputs": [],
   "source": [
    "from sklearn.metrics import mean_squared_error, r2_score\n",
    "mse = mean_squared_error(y_true, y_pred)\n",
    "rmse = mean_squared_error(y_true, y_pred, squared=False)\n",
    "print(\"Coefficients:\", lasso.coef_)\n",
    "r2 = r2_score(y_true, y_pred)\n",
    "print(r2)\n",
    "print(mse)\n",
    "print(rmse)"
   ]
  },
  {
   "cell_type": "markdown",
   "id": "2616671c-a03d-43ca-b6a7-f096404573b9",
   "metadata": {},
   "source": [
    "## Decision Tree"
   ]
  },
  {
   "cell_type": "markdown",
   "id": "24809b7c-e9fc-43f3-bfac-85995f938ba1",
   "metadata": {},
   "source": [
    "### Tree training"
   ]
  },
  {
   "cell_type": "code",
   "execution_count": null,
   "id": "14fc7422-672b-4d57-8a94-e9d109810e35",
   "metadata": {},
   "outputs": [],
   "source": [
    "from sklearn.tree import DecisionTreeRegressor\n",
    "tree_model = DecisionTreeRegressor(random_state=42)\n",
    "tree_model.fit(X_train, y_train)\n",
    "y_pred = tree_model.predict(X_test)"
   ]
  },
  {
   "cell_type": "markdown",
   "id": "da139f3b-42ed-4609-96ea-556a065782ce",
   "metadata": {},
   "source": [
    "### Tree evaluation"
   ]
  },
  {
   "cell_type": "code",
   "execution_count": null,
   "id": "e9421ce7-5844-4635-ae1e-643f4b6f56f9",
   "metadata": {},
   "outputs": [],
   "source": [
    "from sklearn.tree import export_text\n",
    "mse = mean_squared_error(y_true, y_pred)\n",
    "rmse = mean_squared_error(y_true, y_pred, squared=False)\n",
    "tree_rules = export_text(tree_model, feature_names=list(X.columns))\n",
    "print(tree_rules)\n",
    "r2 = r2_score(y_true, y_pred)\n",
    "print(r2)\n",
    "print(mse)\n",
    "print(rmse)"
   ]
  },
  {
   "cell_type": "markdown",
   "id": "f979cf0c-04ec-4ef8-b9c5-f3ca7b9616f6",
   "metadata": {},
   "source": [
    "## Comparison of Model Results"
   ]
  },
  {
   "cell_type": "markdown",
   "id": "b33b714e-54a8-41e2-9638-6dd5cf0369ab",
   "metadata": {},
   "source": [
    "Compare the statistics we drew from the last section to see if the key features (those with the greatest weights) matches up with our unsupervised learning results"
   ]
  },
  {
   "cell_type": "markdown",
   "id": "403386ca-8038-4c6b-924d-0e7ef068700c",
   "metadata": {},
   "source": [
    "### R squared analysis"
   ]
  },
  {
   "cell_type": "markdown",
   "id": "89d6a318-093d-4849-8484-a3d7c0a30783",
   "metadata": {},
   "source": [
    "### MSE Analysis"
   ]
  },
  {
   "cell_type": "markdown",
   "id": "e95bcf26-40c1-49d4-a790-6995e3c597dc",
   "metadata": {},
   "source": [
    "## Policy Recommendation\n",
    "Using the key features we found, make an argument for how we should allocate spending to take these results into account"
   ]
  },
  {
   "cell_type": "markdown",
   "id": "26cf40b0-0b89-41c4-9702-cde217f7a45e",
   "metadata": {},
   "source": [
    "### Interpretation of Findings"
   ]
  },
  {
   "cell_type": "markdown",
   "id": "3a08a63b-0bbf-4e2e-86ce-11ba7b5fa1ff",
   "metadata": {},
   "source": [
    "### Our Policy Recommendations"
   ]
  },
  {
   "cell_type": "markdown",
   "id": "f1e48aab-13e1-4831-966d-611775b15517",
   "metadata": {},
   "source": [
    "## Conclusion\n",
    "Write a few sentences summing up the findings, and giving contact info / link to our repo"
   ]
  },
  {
   "cell_type": "code",
   "execution_count": null,
   "id": "3fcf24a5-a54a-4c58-ac82-26db177c25fe",
   "metadata": {},
   "outputs": [],
   "source": []
  }
 ],
 "metadata": {
  "kernelspec": {
   "display_name": "Python 3 (ipykernel)",
   "language": "python",
   "name": "python3"
  },
  "language_info": {
   "codemirror_mode": {
    "name": "ipython",
    "version": 3
   },
   "file_extension": ".py",
   "mimetype": "text/x-python",
   "name": "python",
   "nbconvert_exporter": "python",
   "pygments_lexer": "ipython3",
   "version": "3.10.7"
  }
 },
 "nbformat": 4,
 "nbformat_minor": 5
}
