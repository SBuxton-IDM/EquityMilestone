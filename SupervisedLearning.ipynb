{
 "cells": [
  {
   "cell_type": "markdown",
   "id": "aa6e7d1e-76cb-4bd9-b0ac-b354f8f0f50c",
   "metadata": {},
   "source": [
    "# Supervised Learning Section"
   ]
  },
  {
   "cell_type": "markdown",
   "id": "3ffd03d9-68fd-4fa9-b7cb-a1b2a5aaa67e",
   "metadata": {},
   "source": [
    "1. [Introduction](#introduction)\n",
    "2. [Data Setup](#data-setup)\n",
    "3. [Principal Component Analysis (PCA) Review](#principal-component-analysis-pca-review)\n",
    "    - [Significant Features](#significant-features-identification)\n",
    "4. [Supervised Learning Model Implementation](#supervised-learning-model-implementation)\n",
    "    - [Data Splitting](#data-splitting)\n",
    "    - [Lasso Regression](#lasso-regression)\n",
    "        - [Model Training](#model-training)\n",
    "        - [Model Evaluation](#model-evaluation)\n",
    "    - [Decision Tree](#decision-tree)\n",
    "        - [Model Training](#model-training-1)\n",
    "        - [Model Evaluation](#model-evaluation-1)\n",
    "5. [Comparison of Model Results](#comparison-of-model-results)\n",
    "    - [R squared analysis](#r-squared-analysis)\n",
    "    - [MSE analysis](#mse-analysis)\n",
    "6. [Policy Recommendation](#policy-recommendation-development)\n",
    "    - [Interpretation of Findings](#interpretation-of-findings)\n",
    "    - [Our Policy Recommendations](#formulating-policy-decisions)\n",
    "7. [Conclusion](#conclusion)\n"
   ]
  },
  {
   "cell_type": "markdown",
   "id": "95e0d99b-fb21-4029-854c-cc0c3ca33021",
   "metadata": {},
   "source": [
    "## Introduction\n",
    "Now that we have performed PCA and clustering to determine key features in the dataset, we would like to support these findings with supervised learning. Our goal in this section is to train easily interpretable supervised learning models to predict digital equity statistics in areas of Michigan. We aim to provide insight into which factors are the most significant in determining digital equity. The relative importance of each feature can be gleaned by the weight given to them during the training of these supervised learning models. With these key features in mind, we will recommend policy decisions that could use this insight to better allocate public funds. Since we are using both categorical and quantitative variables to predict our quantitative equity metric, we plan to compare the efficacy of a lasso regression approach."
   ]
  },
  {
   "cell_type": "markdown",
   "id": "8ba544d5-4902-4018-b7d2-df2df6d580db",
   "metadata": {},
   "source": [
    "## Data setup\n",
    "Access the upload + download speed results etc. from /results, save as df"
   ]
  },
  {
   "cell_type": "code",
   "execution_count": 39,
   "id": "64176343-db75-4d1c-b5fc-d7c7bfa521c2",
   "metadata": {},
   "outputs": [],
   "source": [
    "import sklearn\n",
    "import pandas as pd\n",
    "from sklearn import svm\n",
    "from sklearn.metrics import accuracy_score\n"
   ]
  },
  {
   "cell_type": "code",
   "execution_count": 40,
   "id": "0dd1cbbf",
   "metadata": {},
   "outputs": [
    {
     "data": {
      "text/html": [
       "<div>\n",
       "<style scoped>\n",
       "    .dataframe tbody tr th:only-of-type {\n",
       "        vertical-align: middle;\n",
       "    }\n",
       "\n",
       "    .dataframe tbody tr th {\n",
       "        vertical-align: top;\n",
       "    }\n",
       "\n",
       "    .dataframe thead th {\n",
       "        text-align: right;\n",
       "    }\n",
       "</style>\n",
       "<table border=\"1\" class=\"dataframe\">\n",
       "  <thead>\n",
       "    <tr style=\"text-align: right;\">\n",
       "      <th></th>\n",
       "      <th>TWNRNGSEC</th>\n",
       "      <th>bslcount</th>\n",
       "      <th>usufcount</th>\n",
       "      <th>percent_usuf</th>\n",
       "      <th>avg_d_mbps</th>\n",
       "      <th>avg_u_mbps</th>\n",
       "      <th>avg_lat_ms</th>\n",
       "      <th>cluster_labels</th>\n",
       "    </tr>\n",
       "  </thead>\n",
       "  <tbody>\n",
       "    <tr>\n",
       "      <th>0</th>\n",
       "      <td>47N01E07</td>\n",
       "      <td>1342</td>\n",
       "      <td>870</td>\n",
       "      <td>0.648286</td>\n",
       "      <td>120.343040</td>\n",
       "      <td>12.107076</td>\n",
       "      <td>27.006601</td>\n",
       "      <td>1</td>\n",
       "    </tr>\n",
       "    <tr>\n",
       "      <th>1</th>\n",
       "      <td>47N01E06</td>\n",
       "      <td>847</td>\n",
       "      <td>431</td>\n",
       "      <td>0.508855</td>\n",
       "      <td>116.595788</td>\n",
       "      <td>11.714901</td>\n",
       "      <td>26.358491</td>\n",
       "      <td>1</td>\n",
       "    </tr>\n",
       "    <tr>\n",
       "      <th>2</th>\n",
       "      <td>47N01E08</td>\n",
       "      <td>584</td>\n",
       "      <td>431</td>\n",
       "      <td>0.738014</td>\n",
       "      <td>121.552481</td>\n",
       "      <td>12.842681</td>\n",
       "      <td>26.214286</td>\n",
       "      <td>1</td>\n",
       "    </tr>\n",
       "    <tr>\n",
       "      <th>3</th>\n",
       "      <td>47N01E05</td>\n",
       "      <td>581</td>\n",
       "      <td>371</td>\n",
       "      <td>0.638554</td>\n",
       "      <td>112.081817</td>\n",
       "      <td>25.232495</td>\n",
       "      <td>23.163366</td>\n",
       "      <td>1</td>\n",
       "    </tr>\n",
       "    <tr>\n",
       "      <th>4</th>\n",
       "      <td>45N01W29</td>\n",
       "      <td>543</td>\n",
       "      <td>325</td>\n",
       "      <td>0.598527</td>\n",
       "      <td>133.562899</td>\n",
       "      <td>13.284333</td>\n",
       "      <td>26.753623</td>\n",
       "      <td>1</td>\n",
       "    </tr>\n",
       "    <tr>\n",
       "      <th>...</th>\n",
       "      <td>...</td>\n",
       "      <td>...</td>\n",
       "      <td>...</td>\n",
       "      <td>...</td>\n",
       "      <td>...</td>\n",
       "      <td>...</td>\n",
       "      <td>...</td>\n",
       "      <td>...</td>\n",
       "    </tr>\n",
       "    <tr>\n",
       "      <th>617</th>\n",
       "      <td>42N11W21</td>\n",
       "      <td>1</td>\n",
       "      <td>1</td>\n",
       "      <td>1.000000</td>\n",
       "      <td>17.775000</td>\n",
       "      <td>2.792000</td>\n",
       "      <td>26.000000</td>\n",
       "      <td>0</td>\n",
       "    </tr>\n",
       "    <tr>\n",
       "      <th>618</th>\n",
       "      <td>44N02E01</td>\n",
       "      <td>1</td>\n",
       "      <td>1</td>\n",
       "      <td>1.000000</td>\n",
       "      <td>9.796000</td>\n",
       "      <td>7.664000</td>\n",
       "      <td>62.000000</td>\n",
       "      <td>0</td>\n",
       "    </tr>\n",
       "    <tr>\n",
       "      <th>619</th>\n",
       "      <td>42N05E10</td>\n",
       "      <td>1</td>\n",
       "      <td>1</td>\n",
       "      <td>1.000000</td>\n",
       "      <td>48.723857</td>\n",
       "      <td>13.215571</td>\n",
       "      <td>50.571429</td>\n",
       "      <td>1</td>\n",
       "    </tr>\n",
       "    <tr>\n",
       "      <th>620</th>\n",
       "      <td>42N05E12</td>\n",
       "      <td>1</td>\n",
       "      <td>1</td>\n",
       "      <td>1.000000</td>\n",
       "      <td>13.754000</td>\n",
       "      <td>1.387000</td>\n",
       "      <td>475.500000</td>\n",
       "      <td>2</td>\n",
       "    </tr>\n",
       "    <tr>\n",
       "      <th>621</th>\n",
       "      <td>42N05E27</td>\n",
       "      <td>1</td>\n",
       "      <td>1</td>\n",
       "      <td>1.000000</td>\n",
       "      <td>25.670778</td>\n",
       "      <td>11.517556</td>\n",
       "      <td>120.000000</td>\n",
       "      <td>0</td>\n",
       "    </tr>\n",
       "  </tbody>\n",
       "</table>\n",
       "<p>622 rows × 8 columns</p>\n",
       "</div>"
      ],
      "text/plain": [
       "    TWNRNGSEC  bslcount  usufcount  percent_usuf  avg_d_mbps  avg_u_mbps  \\\n",
       "0    47N01E07      1342        870      0.648286  120.343040   12.107076   \n",
       "1    47N01E06       847        431      0.508855  116.595788   11.714901   \n",
       "2    47N01E08       584        431      0.738014  121.552481   12.842681   \n",
       "3    47N01E05       581        371      0.638554  112.081817   25.232495   \n",
       "4    45N01W29       543        325      0.598527  133.562899   13.284333   \n",
       "..        ...       ...        ...           ...         ...         ...   \n",
       "617  42N11W21         1          1      1.000000   17.775000    2.792000   \n",
       "618  44N02E01         1          1      1.000000    9.796000    7.664000   \n",
       "619  42N05E10         1          1      1.000000   48.723857   13.215571   \n",
       "620  42N05E12         1          1      1.000000   13.754000    1.387000   \n",
       "621  42N05E27         1          1      1.000000   25.670778   11.517556   \n",
       "\n",
       "     avg_lat_ms  cluster_labels  \n",
       "0     27.006601               1  \n",
       "1     26.358491               1  \n",
       "2     26.214286               1  \n",
       "3     23.163366               1  \n",
       "4     26.753623               1  \n",
       "..          ...             ...  \n",
       "617   26.000000               0  \n",
       "618   62.000000               0  \n",
       "619   50.571429               1  \n",
       "620  475.500000               2  \n",
       "621  120.000000               0  \n",
       "\n",
       "[622 rows x 8 columns]"
      ]
     },
     "execution_count": 40,
     "metadata": {},
     "output_type": "execute_result"
    }
   ],
   "source": [
    "total_df = pd.read_csv('../../DATA/results/total.csv')\n",
    "total_df.drop(['Unnamed: 0'], axis=1, inplace=True)\n",
    "total_df"
   ]
  },
  {
   "cell_type": "code",
   "execution_count": 41,
   "id": "80d9ae13",
   "metadata": {},
   "outputs": [],
   "source": [
    "X = total_df.drop(['TWNRNGSEC', 'cluster_labels'], axis=1)\n",
    "y = total_df['cluster_labels']"
   ]
  },
  {
   "cell_type": "markdown",
   "id": "b5d7c9a0-46bf-4840-9b93-486b3fa1b639",
   "metadata": {},
   "source": [
    "## Principal Component Analysis (PCA) Review\n",
    "Write out which groups our PCA highlighted, and which features emerged as the most significant. We will see if our supervised learning yields the same results"
   ]
  },
  {
   "cell_type": "markdown",
   "id": "68fd6ad6-29d2-4215-9fdc-df6f1c39e0f8",
   "metadata": {},
   "source": [
    "### Significant features\n",
    "\n",
    "* bslcount\n",
    "* usufcount\t\n",
    "* percent_usuf\n",
    "* avg_d_mbps\n",
    "* avg_u_mbps\n",
    "* avg_lat_ms\n",
    "* cluster_labels"
   ]
  },
  {
   "cell_type": "markdown",
   "id": "5373e91a-b159-4bac-b379-1ca541715bd0",
   "metadata": {},
   "source": [
    "## Supervised Learning Model Implementation\n",
    "### Data splitting"
   ]
  },
  {
   "cell_type": "code",
   "execution_count": 42,
   "id": "d70e3fe5-b287-4bde-b8c5-eb00bf33e0fe",
   "metadata": {},
   "outputs": [],
   "source": [
    "from sklearn.model_selection import train_test_split\n",
    "X_train, X_test, y_train, y_test = train_test_split(X, y, test_size=0.2, random_state=42)"
   ]
  },
  {
   "cell_type": "markdown",
   "id": "b7c9baae-1a2c-4688-aeb5-149d51c8230a",
   "metadata": {},
   "source": [
    "## Lasso Regression"
   ]
  },
  {
   "cell_type": "markdown",
   "id": "bcc7845d-acd2-4ee4-8748-0679ead328ed",
   "metadata": {},
   "source": [
    "### Lasso training "
   ]
  },
  {
   "cell_type": "code",
   "execution_count": 76,
   "id": "fc61bba3-ca83-4364-a6c7-8db62c742d16",
   "metadata": {},
   "outputs": [],
   "source": [
    "from sklearn import linear_model\n",
    "\n",
    "# Lasso regression model\n",
    "\n",
    "lasso = linear_model.Lasso(alpha=0.1)\n",
    "\n",
    "# Fitting model to data\n",
    "\n",
    "lasso.fit(X, y)\n",
    "y_pred = lasso.predict(X)"
   ]
  },
  {
   "cell_type": "markdown",
   "id": "741b4c41-23cd-49e8-83a5-17db98c02cc1",
   "metadata": {},
   "source": [
    "### Lasso evaluation"
   ]
  },
  {
   "cell_type": "code",
   "execution_count": 77,
   "id": "d4cd72b9-d513-443e-bddb-9d8647552bc3",
   "metadata": {},
   "outputs": [
    {
     "name": "stdout",
     "output_type": "stream",
     "text": [
      "Coefficients: [ 0.000528   -0.00019349 -0.          0.0054479   0.02527999  0.00302462]\n",
      "r2 Score: 0.6512320615803624\n",
      "Mean Squared Error: 0.1538500724828347\n",
      "Root Mean Square Error: 0.39223726554578503\n"
     ]
    }
   ],
   "source": [
    "from sklearn.metrics import mean_squared_error, r2_score\n",
    "mse = mean_squared_error(y, y_pred)\n",
    "rmse = mean_squared_error(y, y_pred, squared=False)\n",
    "print(\"Coefficients:\", lasso.coef_)\n",
    "r2 = r2_score(y, y_pred)\n",
    "print(\"r2 Score:\", r2)\n",
    "print(\"Mean Squared Error:\", mse)\n",
    "print(\"Root Mean Square Error:\", rmse)"
   ]
  },
  {
   "cell_type": "markdown",
   "id": "2616671c-a03d-43ca-b6a7-f096404573b9",
   "metadata": {},
   "source": [
    "## Decision Tree"
   ]
  },
  {
   "cell_type": "markdown",
   "id": "24809b7c-e9fc-43f3-bfac-85995f938ba1",
   "metadata": {},
   "source": [
    "### Tree training"
   ]
  },
  {
   "cell_type": "code",
   "execution_count": 78,
   "id": "14fc7422-672b-4d57-8a94-e9d109810e35",
   "metadata": {},
   "outputs": [],
   "source": [
    "from sklearn.tree import DecisionTreeRegressor\n",
    "\n",
    "tree_model = DecisionTreeRegressor(random_state=42)\n",
    "\n",
    "tree_model.fit(X_train, y_train)\n",
    "\n",
    "y_pred = tree_model.predict(X_test)"
   ]
  },
  {
   "cell_type": "markdown",
   "id": "da139f3b-42ed-4609-96ea-556a065782ce",
   "metadata": {},
   "source": [
    "### Tree evaluation"
   ]
  },
  {
   "cell_type": "code",
   "execution_count": 79,
   "id": "e9421ce7-5844-4635-ae1e-643f4b6f56f9",
   "metadata": {},
   "outputs": [
    {
     "name": "stdout",
     "output_type": "stream",
     "text": [
      "|--- avg_lat_ms <= 355.00\n",
      "|   |--- avg_u_mbps <= 7.44\n",
      "|   |   |--- avg_d_mbps <= 74.82\n",
      "|   |   |   |--- value: [0.00]\n",
      "|   |   |--- avg_d_mbps >  74.82\n",
      "|   |   |   |--- value: [1.00]\n",
      "|   |--- avg_u_mbps >  7.44\n",
      "|   |   |--- avg_d_mbps <= 54.40\n",
      "|   |   |   |--- avg_u_mbps <= 12.52\n",
      "|   |   |   |   |--- avg_lat_ms <= 32.20\n",
      "|   |   |   |   |   |--- value: [1.00]\n",
      "|   |   |   |   |--- avg_lat_ms >  32.20\n",
      "|   |   |   |   |   |--- avg_u_mbps <= 9.84\n",
      "|   |   |   |   |   |   |--- value: [0.00]\n",
      "|   |   |   |   |   |--- avg_u_mbps >  9.84\n",
      "|   |   |   |   |   |   |--- bslcount <= 22.50\n",
      "|   |   |   |   |   |   |   |--- value: [0.00]\n",
      "|   |   |   |   |   |   |--- bslcount >  22.50\n",
      "|   |   |   |   |   |   |   |--- value: [1.00]\n",
      "|   |   |   |--- avg_u_mbps >  12.52\n",
      "|   |   |   |   |--- value: [1.00]\n",
      "|   |   |--- avg_d_mbps >  54.40\n",
      "|   |   |   |--- avg_lat_ms <= 308.17\n",
      "|   |   |   |   |--- avg_u_mbps <= 8.07\n",
      "|   |   |   |   |   |--- avg_u_mbps <= 7.96\n",
      "|   |   |   |   |   |   |--- value: [1.00]\n",
      "|   |   |   |   |   |--- avg_u_mbps >  7.96\n",
      "|   |   |   |   |   |   |--- value: [0.00]\n",
      "|   |   |   |   |--- avg_u_mbps >  8.07\n",
      "|   |   |   |   |   |--- value: [1.00]\n",
      "|   |   |   |--- avg_lat_ms >  308.17\n",
      "|   |   |   |   |--- percent_usuf <= 0.37\n",
      "|   |   |   |   |   |--- value: [0.00]\n",
      "|   |   |   |   |--- percent_usuf >  0.37\n",
      "|   |   |   |   |   |--- value: [1.00]\n",
      "|--- avg_lat_ms >  355.00\n",
      "|   |--- avg_u_mbps <= 9.12\n",
      "|   |   |--- value: [2.00]\n",
      "|   |--- avg_u_mbps >  9.12\n",
      "|   |   |--- avg_lat_ms <= 443.58\n",
      "|   |   |   |--- value: [1.00]\n",
      "|   |   |--- avg_lat_ms >  443.58\n",
      "|   |   |   |--- value: [2.00]\n",
      "\n",
      "r2 Score: 0.903934829388257\n",
      "Mean Squared Error: 0.04\n",
      "Root Mean Square Error: 0.2\n",
      "              precision    recall  f1-score   support\n",
      "\n",
      "           0       0.98      0.92      0.95        50\n",
      "           1       0.94      0.98      0.96        62\n",
      "           2       1.00      1.00      1.00        13\n",
      "\n",
      "    accuracy                           0.96       125\n",
      "   macro avg       0.97      0.97      0.97       125\n",
      "weighted avg       0.96      0.96      0.96       125\n",
      "\n"
     ]
    }
   ],
   "source": [
    "from sklearn.tree import export_text\n",
    "mse = mean_squared_error(y_test, y_pred)\n",
    "rmse = mean_squared_error(y_test, y_pred, squared=False)\n",
    "tree_rules = export_text(tree_model, feature_names=list(X.columns))\n",
    "print(tree_rules)\n",
    "r2 = r2_score(y_test, y_pred)\n",
    "print(\"r2 Score:\", r2)\n",
    "print(\"Mean Squared Error:\", mse)\n",
    "print(\"Root Mean Square Error:\", rmse)\n",
    "#print(\"Accuracy:\", accuracy_score(y_test, y_pred))\n",
    "print(classification_report(y_test, y_pred))"
   ]
  },
  {
   "cell_type": "markdown",
   "id": "5547c722",
   "metadata": {},
   "source": [
    "## Support Vector Machine"
   ]
  },
  {
   "cell_type": "markdown",
   "id": "5b28cb01",
   "metadata": {},
   "source": [
    "### SVM Training"
   ]
  },
  {
   "cell_type": "code",
   "execution_count": 80,
   "id": "fe731ae7",
   "metadata": {},
   "outputs": [],
   "source": [
    "from sklearn import svm\n",
    "from sklearn.metrics import accuracy_score\n",
    "from sklearn.metrics import classification_report"
   ]
  },
  {
   "cell_type": "code",
   "execution_count": 81,
   "id": "0fa5c653",
   "metadata": {},
   "outputs": [],
   "source": [
    "# Create a SVM classifier\n",
    "clf = svm.SVC(kernel='linear') # Linear Kernel\n",
    "\n",
    "# Train the model using the training sets\n",
    "clf.fit(X_train, y_train)\n",
    "\n",
    "# Predict the response for test dataset\n",
    "y_pred = clf.predict(X_test)"
   ]
  },
  {
   "cell_type": "markdown",
   "id": "b3ab5c3a",
   "metadata": {},
   "source": [
    "### SVM Accuracy"
   ]
  },
  {
   "cell_type": "code",
   "execution_count": 82,
   "id": "fe30b5f2",
   "metadata": {},
   "outputs": [
    {
     "name": "stdout",
     "output_type": "stream",
     "text": [
      "Accuracy: 1.0\n",
      "              precision    recall  f1-score   support\n",
      "\n",
      "           0       1.00      1.00      1.00        50\n",
      "           1       1.00      1.00      1.00        62\n",
      "           2       1.00      1.00      1.00        13\n",
      "\n",
      "    accuracy                           1.00       125\n",
      "   macro avg       1.00      1.00      1.00       125\n",
      "weighted avg       1.00      1.00      1.00       125\n",
      "\n"
     ]
    }
   ],
   "source": [
    "print(\"Accuracy:\", accuracy_score(y_test, y_pred))\n",
    "# Model Evaluation: precision, recall, f1-score, support\n",
    "print(classification_report(y_test, y_pred))"
   ]
  },
  {
   "cell_type": "markdown",
   "id": "f979cf0c-04ec-4ef8-b9c5-f3ca7b9616f6",
   "metadata": {},
   "source": [
    "## Comparison of Model Results"
   ]
  },
  {
   "cell_type": "markdown",
   "id": "b33b714e-54a8-41e2-9638-6dd5cf0369ab",
   "metadata": {},
   "source": [
    "Compare the statistics we drew from the last section to see if the key features (those with the greatest weights) matches up with our unsupervised learning results"
   ]
  },
  {
   "cell_type": "markdown",
   "id": "403386ca-8038-4c6b-924d-0e7ef068700c",
   "metadata": {},
   "source": [
    "### R squared analysis"
   ]
  },
  {
   "cell_type": "markdown",
   "id": "89d6a318-093d-4849-8484-a3d7c0a30783",
   "metadata": {},
   "source": [
    "### MSE Analysis"
   ]
  },
  {
   "cell_type": "markdown",
   "id": "e95bcf26-40c1-49d4-a790-6995e3c597dc",
   "metadata": {},
   "source": [
    "## Policy Recommendation\n",
    "Using the key features we found, make an argument for how we should allocate spending to take these results into account"
   ]
  },
  {
   "cell_type": "markdown",
   "id": "26cf40b0-0b89-41c4-9702-cde217f7a45e",
   "metadata": {},
   "source": [
    "### Interpretation of Findings"
   ]
  },
  {
   "cell_type": "markdown",
   "id": "3a08a63b-0bbf-4e2e-86ce-11ba7b5fa1ff",
   "metadata": {},
   "source": [
    "### Our Policy Recommendations"
   ]
  },
  {
   "cell_type": "markdown",
   "id": "f1e48aab-13e1-4831-966d-611775b15517",
   "metadata": {},
   "source": [
    "## Conclusion\n",
    "Write a few sentences summing up the findings, and giving contact info / link to our repo"
   ]
  },
  {
   "cell_type": "code",
   "execution_count": null,
   "id": "3fcf24a5-a54a-4c58-ac82-26db177c25fe",
   "metadata": {},
   "outputs": [],
   "source": []
  }
 ],
 "metadata": {
  "kernelspec": {
   "display_name": "Python 3 (ipykernel)",
   "language": "python",
   "name": "python3"
  },
  "language_info": {
   "codemirror_mode": {
    "name": "ipython",
    "version": 3
   },
   "file_extension": ".py",
   "mimetype": "text/x-python",
   "name": "python",
   "nbconvert_exporter": "python",
   "pygments_lexer": "ipython3",
   "version": "3.8.10"
  }
 },
 "nbformat": 4,
 "nbformat_minor": 5
}
